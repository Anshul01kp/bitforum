{
  "nbformat": 4,
  "nbformat_minor": 0,
  "metadata": {
    "colab": {
      "name": "Final_HAR.ipynb",
      "provenance": [],
      "machine_shape": "hm",
      "mount_file_id": "1tTK5Ax-cl4R77k5v4osxatGmdsNBqOh5",
      "authorship_tag": "ABX9TyPcNacqpcbDrGoM40QDR1VE",
      "include_colab_link": true
    },
    "kernelspec": {
      "name": "python3",
      "display_name": "Python 3"
    },
    "accelerator": "GPU"
  },
  "cells": [
    {
      "cell_type": "markdown",
      "metadata": {
        "id": "view-in-github",
        "colab_type": "text"
      },
      "source": [
        "<a href=\"https://colab.research.google.com/github/Anshul01kp/bitforum/blob/master/Final_HAR.ipynb\" target=\"_parent\"><img src=\"https://colab.research.google.com/assets/colab-badge.svg\" alt=\"Open In Colab\"/></a>"
      ]
    },
    {
      "cell_type": "code",
      "metadata": {
        "id": "6EPqFeYBFb_s",
        "colab_type": "code",
        "colab": {}
      },
      "source": [
        "import glob\n",
        "read_train_files = glob.glob(\"/content/drive/My Drive/HARdata/raw/train/*/*/*.txt\")"
      ],
      "execution_count": 0,
      "outputs": []
    },
    {
      "cell_type": "code",
      "metadata": {
        "id": "qQvaaiphFliC",
        "colab_type": "code",
        "colab": {
          "base_uri": "https://localhost:8080/",
          "height": 1000
        },
        "outputId": "1379eed9-37bc-4144-c291-72bd245d8920"
      },
      "source": [
        "import os\n",
        "\n",
        "with open(\"/content/drive/My Drive/har_train_data.txt\", \"w\") as outfile:\n",
        "    for f in read_train_files:\n",
        "        print(f)\n",
        "        string_to_add = \"\"\n",
        "        \n",
        "        if(os.path.dirname(os.path.dirname(f)) == \"/content/drive/My Drive/HARdata/raw/train/watch\"):\n",
        "            string_to_add += \",0,1\"\n",
        "        else:\n",
        "            string_to_add += \",1,0\"\n",
        "\n",
        "        if(os.path.dirname(f) == \"/content/drive/My Drive/HARdata/raw/train/watch/gyro\" or os.path.dirname(f) == \"/content/drive/My Drive/HARdata/raw/train/phone/gyro\"):\n",
        "            string_to_add += \",0,1\"\n",
        "        else:\n",
        "            string_to_add += \",1,0\"\n",
        "\n",
        "        with open(f, \"r\") as infile:\n",
        "            file_lines = [''.join([x.split(';')[0], string_to_add, '\\n']) for x in infile.readlines()]\n",
        "            outfile.writelines(file_lines)"
      ],
      "execution_count": 2,
      "outputs": [
        {
          "output_type": "stream",
          "text": [
            "/content/drive/My Drive/HARdata/raw/train/phone/accel/data_1600_accel_phone.txt\n",
            "/content/drive/My Drive/HARdata/raw/train/phone/accel/data_1601_accel_phone.txt\n",
            "/content/drive/My Drive/HARdata/raw/train/phone/accel/data_1602_accel_phone.txt\n",
            "/content/drive/My Drive/HARdata/raw/train/phone/accel/data_1603_accel_phone.txt\n",
            "/content/drive/My Drive/HARdata/raw/train/phone/accel/data_1604_accel_phone.txt\n",
            "/content/drive/My Drive/HARdata/raw/train/phone/accel/data_1605_accel_phone.txt\n",
            "/content/drive/My Drive/HARdata/raw/train/phone/accel/data_1606_accel_phone.txt\n",
            "/content/drive/My Drive/HARdata/raw/train/phone/accel/data_1607_accel_phone.txt\n",
            "/content/drive/My Drive/HARdata/raw/train/phone/accel/data_1608_accel_phone.txt\n",
            "/content/drive/My Drive/HARdata/raw/train/phone/accel/data_1609_accel_phone.txt\n",
            "/content/drive/My Drive/HARdata/raw/train/phone/accel/data_1610_accel_phone.txt\n",
            "/content/drive/My Drive/HARdata/raw/train/phone/accel/data_1611_accel_phone.txt\n",
            "/content/drive/My Drive/HARdata/raw/train/phone/accel/data_1612_accel_phone.txt\n",
            "/content/drive/My Drive/HARdata/raw/train/phone/accel/data_1613_accel_phone.txt\n",
            "/content/drive/My Drive/HARdata/raw/train/phone/accel/data_1614_accel_phone.txt\n",
            "/content/drive/My Drive/HARdata/raw/train/phone/accel/data_1615_accel_phone.txt\n",
            "/content/drive/My Drive/HARdata/raw/train/phone/accel/data_1616_accel_phone.txt\n",
            "/content/drive/My Drive/HARdata/raw/train/phone/accel/data_1617_accel_phone.txt\n",
            "/content/drive/My Drive/HARdata/raw/train/phone/accel/data_1618_accel_phone.txt\n",
            "/content/drive/My Drive/HARdata/raw/train/phone/accel/data_1619_accel_phone.txt\n",
            "/content/drive/My Drive/HARdata/raw/train/phone/gyro/data_1600_gyro_phone.txt\n",
            "/content/drive/My Drive/HARdata/raw/train/phone/gyro/data_1601_gyro_phone.txt\n",
            "/content/drive/My Drive/HARdata/raw/train/phone/gyro/data_1602_gyro_phone.txt\n",
            "/content/drive/My Drive/HARdata/raw/train/phone/gyro/data_1603_gyro_phone.txt\n",
            "/content/drive/My Drive/HARdata/raw/train/phone/gyro/data_1604_gyro_phone.txt\n",
            "/content/drive/My Drive/HARdata/raw/train/phone/gyro/data_1605_gyro_phone.txt\n",
            "/content/drive/My Drive/HARdata/raw/train/phone/gyro/data_1606_gyro_phone.txt\n",
            "/content/drive/My Drive/HARdata/raw/train/phone/gyro/data_1607_gyro_phone.txt\n",
            "/content/drive/My Drive/HARdata/raw/train/phone/gyro/data_1608_gyro_phone.txt\n",
            "/content/drive/My Drive/HARdata/raw/train/phone/gyro/data_1609_gyro_phone.txt\n",
            "/content/drive/My Drive/HARdata/raw/train/phone/gyro/data_1610_gyro_phone.txt\n",
            "/content/drive/My Drive/HARdata/raw/train/phone/gyro/data_1611_gyro_phone.txt\n",
            "/content/drive/My Drive/HARdata/raw/train/phone/gyro/data_1612_gyro_phone.txt\n",
            "/content/drive/My Drive/HARdata/raw/train/phone/gyro/data_1613_gyro_phone.txt\n",
            "/content/drive/My Drive/HARdata/raw/train/phone/gyro/data_1614_gyro_phone.txt\n",
            "/content/drive/My Drive/HARdata/raw/train/phone/gyro/data_1615_gyro_phone.txt\n",
            "/content/drive/My Drive/HARdata/raw/train/phone/gyro/data_1616_gyro_phone.txt\n",
            "/content/drive/My Drive/HARdata/raw/train/phone/gyro/data_1617_gyro_phone.txt\n",
            "/content/drive/My Drive/HARdata/raw/train/phone/gyro/data_1618_gyro_phone.txt\n",
            "/content/drive/My Drive/HARdata/raw/train/phone/gyro/data_1619_gyro_phone.txt\n",
            "/content/drive/My Drive/HARdata/raw/train/watch/accel/data_1600_accel_watch.txt\n",
            "/content/drive/My Drive/HARdata/raw/train/watch/accel/data_1601_accel_watch.txt\n",
            "/content/drive/My Drive/HARdata/raw/train/watch/accel/data_1602_accel_watch.txt\n",
            "/content/drive/My Drive/HARdata/raw/train/watch/accel/data_1603_accel_watch.txt\n",
            "/content/drive/My Drive/HARdata/raw/train/watch/accel/data_1604_accel_watch.txt\n",
            "/content/drive/My Drive/HARdata/raw/train/watch/accel/data_1605_accel_watch.txt\n",
            "/content/drive/My Drive/HARdata/raw/train/watch/accel/data_1606_accel_watch.txt\n",
            "/content/drive/My Drive/HARdata/raw/train/watch/accel/data_1607_accel_watch.txt\n",
            "/content/drive/My Drive/HARdata/raw/train/watch/accel/data_1608_accel_watch.txt\n",
            "/content/drive/My Drive/HARdata/raw/train/watch/accel/data_1609_accel_watch.txt\n",
            "/content/drive/My Drive/HARdata/raw/train/watch/accel/data_1610_accel_watch.txt\n",
            "/content/drive/My Drive/HARdata/raw/train/watch/accel/data_1611_accel_watch.txt\n",
            "/content/drive/My Drive/HARdata/raw/train/watch/accel/data_1612_accel_watch.txt\n",
            "/content/drive/My Drive/HARdata/raw/train/watch/accel/data_1613_accel_watch.txt\n",
            "/content/drive/My Drive/HARdata/raw/train/watch/accel/data_1614_accel_watch.txt\n",
            "/content/drive/My Drive/HARdata/raw/train/watch/accel/data_1615_accel_watch.txt\n",
            "/content/drive/My Drive/HARdata/raw/train/watch/accel/data_1616_accel_watch.txt\n",
            "/content/drive/My Drive/HARdata/raw/train/watch/accel/data_1617_accel_watch.txt\n",
            "/content/drive/My Drive/HARdata/raw/train/watch/accel/data_1618_accel_watch.txt\n",
            "/content/drive/My Drive/HARdata/raw/train/watch/accel/data_1619_accel_watch.txt\n",
            "/content/drive/My Drive/HARdata/raw/train/watch/gyro/data_1600_gyro_watch.txt\n",
            "/content/drive/My Drive/HARdata/raw/train/watch/gyro/data_1601_gyro_watch.txt\n",
            "/content/drive/My Drive/HARdata/raw/train/watch/gyro/data_1602_gyro_watch.txt\n",
            "/content/drive/My Drive/HARdata/raw/train/watch/gyro/data_1603_gyro_watch.txt\n",
            "/content/drive/My Drive/HARdata/raw/train/watch/gyro/data_1604_gyro_watch.txt\n",
            "/content/drive/My Drive/HARdata/raw/train/watch/gyro/data_1605_gyro_watch.txt\n",
            "/content/drive/My Drive/HARdata/raw/train/watch/gyro/data_1606_gyro_watch.txt\n",
            "/content/drive/My Drive/HARdata/raw/train/watch/gyro/data_1607_gyro_watch.txt\n",
            "/content/drive/My Drive/HARdata/raw/train/watch/gyro/data_1608_gyro_watch.txt\n",
            "/content/drive/My Drive/HARdata/raw/train/watch/gyro/data_1609_gyro_watch.txt\n",
            "/content/drive/My Drive/HARdata/raw/train/watch/gyro/data_1610_gyro_watch.txt\n",
            "/content/drive/My Drive/HARdata/raw/train/watch/gyro/data_1611_gyro_watch.txt\n",
            "/content/drive/My Drive/HARdata/raw/train/watch/gyro/data_1612_gyro_watch.txt\n",
            "/content/drive/My Drive/HARdata/raw/train/watch/gyro/data_1613_gyro_watch.txt\n",
            "/content/drive/My Drive/HARdata/raw/train/watch/gyro/data_1614_gyro_watch.txt\n",
            "/content/drive/My Drive/HARdata/raw/train/watch/gyro/data_1615_gyro_watch.txt\n",
            "/content/drive/My Drive/HARdata/raw/train/watch/gyro/data_1616_gyro_watch.txt\n",
            "/content/drive/My Drive/HARdata/raw/train/watch/gyro/data_1617_gyro_watch.txt\n",
            "/content/drive/My Drive/HARdata/raw/train/watch/gyro/data_1618_gyro_watch.txt\n",
            "/content/drive/My Drive/HARdata/raw/train/watch/gyro/data_1619_gyro_watch.txt\n"
          ],
          "name": "stdout"
        }
      ]
    },
    {
      "cell_type": "code",
      "metadata": {
        "id": "GFTHRatvGd-S",
        "colab_type": "code",
        "colab": {}
      },
      "source": [
        "read_test_files = glob.glob(\"/content/drive/My Drive/HARdata/raw/test/*/*/*.txt\")"
      ],
      "execution_count": 0,
      "outputs": []
    },
    {
      "cell_type": "code",
      "metadata": {
        "id": "e4QqRhvjGeQj",
        "colab_type": "code",
        "colab": {
          "base_uri": "https://localhost:8080/",
          "height": 958
        },
        "outputId": "ea97bffb-ea24-4ed4-d780-9aabf8878839"
      },
      "source": [
        "import os\n",
        "\n",
        "with open(\"/content/drive/My Drive/har_test_data.txt\", \"w\") as outfile:\n",
        "    for f in read_test_files:\n",
        "        print(f)\n",
        "        string_to_add = \"\"\n",
        "        \n",
        "        if(os.path.dirname(os.path.dirname(f)) == \"/content/drive/My Drive/HARdata/raw/test/watch\"):\n",
        "            string_to_add += \",0,1\"\n",
        "        else:\n",
        "            string_to_add += \",1,0\"\n",
        "\n",
        "        if(os.path.dirname(f) == \"/content/drive/My Drive/HARdata/raw/test/watch/gyro\" or os.path.dirname(f) == \"/content/drive/My Drive/HARdata/raw/test/phone/gyro\"):\n",
        "            string_to_add += \",0,1\"\n",
        "        else:\n",
        "            string_to_add += \",1,0\"\n",
        "\n",
        "        with open(f, \"r\") as infile:\n",
        "            file_lines = [''.join([x.split(';')[0], string_to_add, '\\n']) for x in infile.readlines()]\n",
        "            outfile.writelines(file_lines)"
      ],
      "execution_count": 4,
      "outputs": [
        {
          "output_type": "stream",
          "text": [
            "/content/drive/My Drive/HARdata/raw/test/phone/accel/data_1620_accel_phone.txt\n",
            "/content/drive/My Drive/HARdata/raw/test/phone/accel/data_1621_accel_phone.txt\n",
            "/content/drive/My Drive/HARdata/raw/test/phone/accel/data_1622_accel_phone.txt\n",
            "/content/drive/My Drive/HARdata/raw/test/phone/accel/data_1623_accel_phone.txt\n",
            "/content/drive/My Drive/HARdata/raw/test/phone/accel/data_1624_accel_phone.txt\n",
            "/content/drive/My Drive/HARdata/raw/test/phone/accel/data_1625_accel_phone.txt\n",
            "/content/drive/My Drive/HARdata/raw/test/phone/accel/data_1626_accel_phone.txt\n",
            "/content/drive/My Drive/HARdata/raw/test/phone/accel/data_1627_accel_phone.txt\n",
            "/content/drive/My Drive/HARdata/raw/test/phone/accel/data_1628_accel_phone.txt\n",
            "/content/drive/My Drive/HARdata/raw/test/phone/accel/data_1629_accel_phone.txt\n",
            "/content/drive/My Drive/HARdata/raw/test/phone/accel/data_1630_accel_phone.txt\n",
            "/content/drive/My Drive/HARdata/raw/test/phone/accel/data_1631_accel_phone.txt\n",
            "/content/drive/My Drive/HARdata/raw/test/phone/accel/data_1632_accel_phone.txt\n",
            "/content/drive/My Drive/HARdata/raw/test/phone/accel/data_1633_accel_phone.txt\n",
            "/content/drive/My Drive/HARdata/raw/test/phone/gyro/data_1620_gyro_phone.txt\n",
            "/content/drive/My Drive/HARdata/raw/test/phone/gyro/data_1621_gyro_phone.txt\n",
            "/content/drive/My Drive/HARdata/raw/test/phone/gyro/data_1622_gyro_phone.txt\n",
            "/content/drive/My Drive/HARdata/raw/test/phone/gyro/data_1623_gyro_phone.txt\n",
            "/content/drive/My Drive/HARdata/raw/test/phone/gyro/data_1624_gyro_phone.txt\n",
            "/content/drive/My Drive/HARdata/raw/test/phone/gyro/data_1625_gyro_phone.txt\n",
            "/content/drive/My Drive/HARdata/raw/test/phone/gyro/data_1626_gyro_phone.txt\n",
            "/content/drive/My Drive/HARdata/raw/test/phone/gyro/data_1627_gyro_phone.txt\n",
            "/content/drive/My Drive/HARdata/raw/test/phone/gyro/data_1628_gyro_phone.txt\n",
            "/content/drive/My Drive/HARdata/raw/test/phone/gyro/data_1629_gyro_phone.txt\n",
            "/content/drive/My Drive/HARdata/raw/test/phone/gyro/data_1630_gyro_phone.txt\n",
            "/content/drive/My Drive/HARdata/raw/test/phone/gyro/data_1631_gyro_phone.txt\n",
            "/content/drive/My Drive/HARdata/raw/test/phone/gyro/data_1632_gyro_phone.txt\n",
            "/content/drive/My Drive/HARdata/raw/test/phone/gyro/data_1633_gyro_phone.txt\n",
            "/content/drive/My Drive/HARdata/raw/test/watch/accel/data_1620_accel_watch.txt\n",
            "/content/drive/My Drive/HARdata/raw/test/watch/accel/data_1621_accel_watch.txt\n",
            "/content/drive/My Drive/HARdata/raw/test/watch/accel/data_1622_accel_watch.txt\n",
            "/content/drive/My Drive/HARdata/raw/test/watch/accel/data_1623_accel_watch.txt\n",
            "/content/drive/My Drive/HARdata/raw/test/watch/accel/data_1624_accel_watch.txt\n",
            "/content/drive/My Drive/HARdata/raw/test/watch/accel/data_1625_accel_watch.txt\n",
            "/content/drive/My Drive/HARdata/raw/test/watch/accel/data_1626_accel_watch.txt\n",
            "/content/drive/My Drive/HARdata/raw/test/watch/accel/data_1627_accel_watch.txt\n",
            "/content/drive/My Drive/HARdata/raw/test/watch/accel/data_1628_accel_watch.txt\n",
            "/content/drive/My Drive/HARdata/raw/test/watch/accel/data_1629_accel_watch.txt\n",
            "/content/drive/My Drive/HARdata/raw/test/watch/accel/data_1630_accel_watch.txt\n",
            "/content/drive/My Drive/HARdata/raw/test/watch/accel/data_1631_accel_watch.txt\n",
            "/content/drive/My Drive/HARdata/raw/test/watch/accel/data_1632_accel_watch.txt\n",
            "/content/drive/My Drive/HARdata/raw/test/watch/accel/data_1633_accel_watch.txt\n",
            "/content/drive/My Drive/HARdata/raw/test/watch/gyro/data_1620_gyro_watch.txt\n",
            "/content/drive/My Drive/HARdata/raw/test/watch/gyro/data_1621_gyro_watch.txt\n",
            "/content/drive/My Drive/HARdata/raw/test/watch/gyro/data_1622_gyro_watch.txt\n",
            "/content/drive/My Drive/HARdata/raw/test/watch/gyro/data_1623_gyro_watch.txt\n",
            "/content/drive/My Drive/HARdata/raw/test/watch/gyro/data_1624_gyro_watch.txt\n",
            "/content/drive/My Drive/HARdata/raw/test/watch/gyro/data_1625_gyro_watch.txt\n",
            "/content/drive/My Drive/HARdata/raw/test/watch/gyro/data_1626_gyro_watch.txt\n",
            "/content/drive/My Drive/HARdata/raw/test/watch/gyro/data_1627_gyro_watch.txt\n",
            "/content/drive/My Drive/HARdata/raw/test/watch/gyro/data_1628_gyro_watch.txt\n",
            "/content/drive/My Drive/HARdata/raw/test/watch/gyro/data_1629_gyro_watch.txt\n",
            "/content/drive/My Drive/HARdata/raw/test/watch/gyro/data_1630_gyro_watch.txt\n",
            "/content/drive/My Drive/HARdata/raw/test/watch/gyro/data_1631_gyro_watch.txt\n",
            "/content/drive/My Drive/HARdata/raw/test/watch/gyro/data_1632_gyro_watch.txt\n",
            "/content/drive/My Drive/HARdata/raw/test/watch/gyro/data_1633_gyro_watch.txt\n"
          ],
          "name": "stdout"
        }
      ]
    },
    {
      "cell_type": "code",
      "metadata": {
        "id": "bJGYHMDuEzRu",
        "colab_type": "code",
        "colab": {}
      },
      "source": [
        "f = open(\"/content/drive/My Drive/har_train_data.txt\", \"r\")\n",
        "lines = f.readlines()\n",
        "\n",
        "training_data = []\n",
        "\n",
        "for i, line in enumerate(lines):\n",
        "  try:\n",
        "    line = line.strip()\n",
        "    line = line.split(',')\n",
        "\n",
        "    temp = [line[1], line[3], line[4], line[5], line[6], line[7], line[8], line[9]]\n",
        "    training_data.append(temp)\n",
        "  except:\n",
        "    print(\"Error occured...\")"
      ],
      "execution_count": 0,
      "outputs": []
    },
    {
      "cell_type": "code",
      "metadata": {
        "id": "z9UAdvJ2i7aS",
        "colab_type": "code",
        "colab": {}
      },
      "source": [
        "f = open(\"/content/drive/My Drive/har_test_data.txt\", \"r\")\n",
        "lines = f.readlines()\n",
        "\n",
        "testing_data = []\n",
        "\n",
        "for i, line in enumerate(lines):\n",
        "  try:\n",
        "    line = line.strip()\n",
        "    line = line.split(',')\n",
        "\n",
        "    temp = [line[1], line[3], line[4], line[5], line[6], line[7], line[8], line[9]]\n",
        "    testing_data.append(temp)\n",
        "  except:\n",
        "    print(\"Error occured...\")"
      ],
      "execution_count": 0,
      "outputs": []
    },
    {
      "cell_type": "code",
      "metadata": {
        "id": "kMRApgwyGA4h",
        "colab_type": "code",
        "outputId": "67fb12aa-f4dc-491a-822b-041b6c4788c8",
        "colab": {
          "base_uri": "https://localhost:8080/",
          "height": 34
        }
      },
      "source": [
        "len(training_data)"
      ],
      "execution_count": 7,
      "outputs": [
        {
          "output_type": "execute_result",
          "data": {
            "text/plain": [
              "5575010"
            ]
          },
          "metadata": {
            "tags": []
          },
          "execution_count": 7
        }
      ]
    },
    {
      "cell_type": "code",
      "metadata": {
        "id": "2ogDubseGz6f",
        "colab_type": "code",
        "outputId": "a68ec257-0084-4c12-d77b-dbe536b1cfc9",
        "colab": {
          "base_uri": "https://localhost:8080/",
          "height": 34
        }
      },
      "source": [
        "len(testing_data)"
      ],
      "execution_count": 8,
      "outputs": [
        {
          "output_type": "execute_result",
          "data": {
            "text/plain": [
              "4266331"
            ]
          },
          "metadata": {
            "tags": []
          },
          "execution_count": 8
        }
      ]
    },
    {
      "cell_type": "code",
      "metadata": {
        "id": "AaZ_5-99QWyU",
        "colab_type": "code",
        "outputId": "7569ae09-74af-4dca-8941-94e57c6c7240",
        "colab": {
          "base_uri": "https://localhost:8080/",
          "height": 402
        }
      },
      "source": [
        "import pandas as pd\n",
        "\n",
        "columns = ['activity', 'x', 'y', 'z', 'phone', 'watch', 'accel', 'gyro']\n",
        "\n",
        "train_data = pd.DataFrame(data=training_data, columns = columns)\n",
        "train_data"
      ],
      "execution_count": 9,
      "outputs": [
        {
          "output_type": "execute_result",
          "data": {
            "text/html": [
              "<div>\n",
              "<style scoped>\n",
              "    .dataframe tbody tr th:only-of-type {\n",
              "        vertical-align: middle;\n",
              "    }\n",
              "\n",
              "    .dataframe tbody tr th {\n",
              "        vertical-align: top;\n",
              "    }\n",
              "\n",
              "    .dataframe thead th {\n",
              "        text-align: right;\n",
              "    }\n",
              "</style>\n",
              "<table border=\"1\" class=\"dataframe\">\n",
              "  <thead>\n",
              "    <tr style=\"text-align: right;\">\n",
              "      <th></th>\n",
              "      <th>activity</th>\n",
              "      <th>x</th>\n",
              "      <th>y</th>\n",
              "      <th>z</th>\n",
              "      <th>phone</th>\n",
              "      <th>watch</th>\n",
              "      <th>accel</th>\n",
              "      <th>gyro</th>\n",
              "    </tr>\n",
              "  </thead>\n",
              "  <tbody>\n",
              "    <tr>\n",
              "      <th>0</th>\n",
              "      <td>A</td>\n",
              "      <td>-0.36476135</td>\n",
              "      <td>8.793503</td>\n",
              "      <td>1.0550842</td>\n",
              "      <td>1</td>\n",
              "      <td>0</td>\n",
              "      <td>1</td>\n",
              "      <td>0</td>\n",
              "    </tr>\n",
              "    <tr>\n",
              "      <th>1</th>\n",
              "      <td>A</td>\n",
              "      <td>-0.8797302</td>\n",
              "      <td>9.768784</td>\n",
              "      <td>1.0169983</td>\n",
              "      <td>1</td>\n",
              "      <td>0</td>\n",
              "      <td>1</td>\n",
              "      <td>0</td>\n",
              "    </tr>\n",
              "    <tr>\n",
              "      <th>2</th>\n",
              "      <td>A</td>\n",
              "      <td>2.0014954</td>\n",
              "      <td>11.10907</td>\n",
              "      <td>2.619156</td>\n",
              "      <td>1</td>\n",
              "      <td>0</td>\n",
              "      <td>1</td>\n",
              "      <td>0</td>\n",
              "    </tr>\n",
              "    <tr>\n",
              "      <th>3</th>\n",
              "      <td>A</td>\n",
              "      <td>0.45062256</td>\n",
              "      <td>12.651642</td>\n",
              "      <td>0.18455505</td>\n",
              "      <td>1</td>\n",
              "      <td>0</td>\n",
              "      <td>1</td>\n",
              "      <td>0</td>\n",
              "    </tr>\n",
              "    <tr>\n",
              "      <th>4</th>\n",
              "      <td>A</td>\n",
              "      <td>-2.1643524</td>\n",
              "      <td>13.928436</td>\n",
              "      <td>-4.4224854</td>\n",
              "      <td>1</td>\n",
              "      <td>0</td>\n",
              "      <td>1</td>\n",
              "      <td>0</td>\n",
              "    </tr>\n",
              "    <tr>\n",
              "      <th>...</th>\n",
              "      <td>...</td>\n",
              "      <td>...</td>\n",
              "      <td>...</td>\n",
              "      <td>...</td>\n",
              "      <td>...</td>\n",
              "      <td>...</td>\n",
              "      <td>...</td>\n",
              "      <td>...</td>\n",
              "    </tr>\n",
              "    <tr>\n",
              "      <th>5575005</th>\n",
              "      <td>S</td>\n",
              "      <td>-1.0513207</td>\n",
              "      <td>0.37456402</td>\n",
              "      <td>0.20349294</td>\n",
              "      <td>0</td>\n",
              "      <td>1</td>\n",
              "      <td>0</td>\n",
              "      <td>1</td>\n",
              "    </tr>\n",
              "    <tr>\n",
              "      <th>5575006</th>\n",
              "      <td>S</td>\n",
              "      <td>-1.3634498</td>\n",
              "      <td>0.4171866</td>\n",
              "      <td>0.26314774</td>\n",
              "      <td>0</td>\n",
              "      <td>1</td>\n",
              "      <td>0</td>\n",
              "      <td>1</td>\n",
              "    </tr>\n",
              "    <tr>\n",
              "      <th>5575007</th>\n",
              "      <td>S</td>\n",
              "      <td>-1.190877</td>\n",
              "      <td>0.57058465</td>\n",
              "      <td>0.31428045</td>\n",
              "      <td>0</td>\n",
              "      <td>1</td>\n",
              "      <td>0</td>\n",
              "      <td>1</td>\n",
              "    </tr>\n",
              "    <tr>\n",
              "      <th>5575008</th>\n",
              "      <td>S</td>\n",
              "      <td>-0.3567749</td>\n",
              "      <td>0.51625615</td>\n",
              "      <td>0.25356036</td>\n",
              "      <td>0</td>\n",
              "      <td>1</td>\n",
              "      <td>0</td>\n",
              "      <td>1</td>\n",
              "    </tr>\n",
              "    <tr>\n",
              "      <th>5575009</th>\n",
              "      <td>S</td>\n",
              "      <td>-0.049978744</td>\n",
              "      <td>0.34368333</td>\n",
              "      <td>0.06713909</td>\n",
              "      <td>0</td>\n",
              "      <td>1</td>\n",
              "      <td>0</td>\n",
              "      <td>1</td>\n",
              "    </tr>\n",
              "  </tbody>\n",
              "</table>\n",
              "<p>5575010 rows × 8 columns</p>\n",
              "</div>"
            ],
            "text/plain": [
              "        activity             x           y           z phone watch accel gyro\n",
              "0              A   -0.36476135    8.793503   1.0550842     1     0     1    0\n",
              "1              A    -0.8797302    9.768784   1.0169983     1     0     1    0\n",
              "2              A     2.0014954    11.10907    2.619156     1     0     1    0\n",
              "3              A    0.45062256   12.651642  0.18455505     1     0     1    0\n",
              "4              A    -2.1643524   13.928436  -4.4224854     1     0     1    0\n",
              "...          ...           ...         ...         ...   ...   ...   ...  ...\n",
              "5575005        S    -1.0513207  0.37456402  0.20349294     0     1     0    1\n",
              "5575006        S    -1.3634498   0.4171866  0.26314774     0     1     0    1\n",
              "5575007        S     -1.190877  0.57058465  0.31428045     0     1     0    1\n",
              "5575008        S    -0.3567749  0.51625615  0.25356036     0     1     0    1\n",
              "5575009        S  -0.049978744  0.34368333  0.06713909     0     1     0    1\n",
              "\n",
              "[5575010 rows x 8 columns]"
            ]
          },
          "metadata": {
            "tags": []
          },
          "execution_count": 9
        }
      ]
    },
    {
      "cell_type": "code",
      "metadata": {
        "id": "o8ftR3UekLnm",
        "colab_type": "code",
        "colab": {
          "base_uri": "https://localhost:8080/",
          "height": 402
        },
        "outputId": "8a10d9f0-9078-42e1-c363-37f9ec2c3f4e"
      },
      "source": [
        "test_data = pd.DataFrame(data=testing_data, columns = columns)\n",
        "test_data"
      ],
      "execution_count": 10,
      "outputs": [
        {
          "output_type": "execute_result",
          "data": {
            "text/html": [
              "<div>\n",
              "<style scoped>\n",
              "    .dataframe tbody tr th:only-of-type {\n",
              "        vertical-align: middle;\n",
              "    }\n",
              "\n",
              "    .dataframe tbody tr th {\n",
              "        vertical-align: top;\n",
              "    }\n",
              "\n",
              "    .dataframe thead th {\n",
              "        text-align: right;\n",
              "    }\n",
              "</style>\n",
              "<table border=\"1\" class=\"dataframe\">\n",
              "  <thead>\n",
              "    <tr style=\"text-align: right;\">\n",
              "      <th></th>\n",
              "      <th>activity</th>\n",
              "      <th>x</th>\n",
              "      <th>y</th>\n",
              "      <th>z</th>\n",
              "      <th>phone</th>\n",
              "      <th>watch</th>\n",
              "      <th>accel</th>\n",
              "      <th>gyro</th>\n",
              "    </tr>\n",
              "  </thead>\n",
              "  <tbody>\n",
              "    <tr>\n",
              "      <th>0</th>\n",
              "      <td>A</td>\n",
              "      <td>6.130188</td>\n",
              "      <td>5.92334</td>\n",
              "      <td>-0.7918701</td>\n",
              "      <td>1</td>\n",
              "      <td>0</td>\n",
              "      <td>1</td>\n",
              "      <td>0</td>\n",
              "    </tr>\n",
              "    <tr>\n",
              "      <th>1</th>\n",
              "      <td>A</td>\n",
              "      <td>9.97998</td>\n",
              "      <td>10.531952</td>\n",
              "      <td>-2.9611511</td>\n",
              "      <td>1</td>\n",
              "      <td>0</td>\n",
              "      <td>1</td>\n",
              "      <td>0</td>\n",
              "    </tr>\n",
              "    <tr>\n",
              "      <th>2</th>\n",
              "      <td>A</td>\n",
              "      <td>7.2329865</td>\n",
              "      <td>11.2117</td>\n",
              "      <td>-0.7839813</td>\n",
              "      <td>1</td>\n",
              "      <td>0</td>\n",
              "      <td>1</td>\n",
              "      <td>0</td>\n",
              "    </tr>\n",
              "    <tr>\n",
              "      <th>3</th>\n",
              "      <td>A</td>\n",
              "      <td>6.0130005</td>\n",
              "      <td>9.32933</td>\n",
              "      <td>-1.0701752</td>\n",
              "      <td>1</td>\n",
              "      <td>0</td>\n",
              "      <td>1</td>\n",
              "      <td>0</td>\n",
              "    </tr>\n",
              "    <tr>\n",
              "      <th>4</th>\n",
              "      <td>A</td>\n",
              "      <td>5.5630646</td>\n",
              "      <td>7.3433533</td>\n",
              "      <td>-4.254425</td>\n",
              "      <td>1</td>\n",
              "      <td>0</td>\n",
              "      <td>1</td>\n",
              "      <td>0</td>\n",
              "    </tr>\n",
              "    <tr>\n",
              "      <th>...</th>\n",
              "      <td>...</td>\n",
              "      <td>...</td>\n",
              "      <td>...</td>\n",
              "      <td>...</td>\n",
              "      <td>...</td>\n",
              "      <td>...</td>\n",
              "      <td>...</td>\n",
              "      <td>...</td>\n",
              "    </tr>\n",
              "    <tr>\n",
              "      <th>4266326</th>\n",
              "      <td>S</td>\n",
              "      <td>-1.0732955</td>\n",
              "      <td>-0.20493264</td>\n",
              "      <td>-0.38501665</td>\n",
              "      <td>0</td>\n",
              "      <td>1</td>\n",
              "      <td>0</td>\n",
              "      <td>1</td>\n",
              "    </tr>\n",
              "    <tr>\n",
              "      <th>4266327</th>\n",
              "      <td>S</td>\n",
              "      <td>0.4670769</td>\n",
              "      <td>-0.54581726</td>\n",
              "      <td>-0.48728204</td>\n",
              "      <td>0</td>\n",
              "      <td>1</td>\n",
              "      <td>0</td>\n",
              "      <td>1</td>\n",
              "    </tr>\n",
              "    <tr>\n",
              "      <th>4266328</th>\n",
              "      <td>S</td>\n",
              "      <td>0.80156994</td>\n",
              "      <td>-0.8685924</td>\n",
              "      <td>-0.81005716</td>\n",
              "      <td>0</td>\n",
              "      <td>1</td>\n",
              "      <td>0</td>\n",
              "      <td>1</td>\n",
              "    </tr>\n",
              "    <tr>\n",
              "      <th>4266329</th>\n",
              "      <td>S</td>\n",
              "      <td>1.7155669</td>\n",
              "      <td>-1.2265213</td>\n",
              "      <td>-1.2329671</td>\n",
              "      <td>0</td>\n",
              "      <td>1</td>\n",
              "      <td>0</td>\n",
              "      <td>1</td>\n",
              "    </tr>\n",
              "    <tr>\n",
              "      <th>4266330</th>\n",
              "      <td>S</td>\n",
              "      <td>1.8114406</td>\n",
              "      <td>-1.7538271</td>\n",
              "      <td>-1.9648038</td>\n",
              "      <td>0</td>\n",
              "      <td>1</td>\n",
              "      <td>0</td>\n",
              "      <td>1</td>\n",
              "    </tr>\n",
              "  </tbody>\n",
              "</table>\n",
              "<p>4266331 rows × 8 columns</p>\n",
              "</div>"
            ],
            "text/plain": [
              "        activity           x            y            z phone watch accel gyro\n",
              "0              A    6.130188      5.92334   -0.7918701     1     0     1    0\n",
              "1              A     9.97998    10.531952   -2.9611511     1     0     1    0\n",
              "2              A   7.2329865      11.2117   -0.7839813     1     0     1    0\n",
              "3              A   6.0130005      9.32933   -1.0701752     1     0     1    0\n",
              "4              A   5.5630646    7.3433533    -4.254425     1     0     1    0\n",
              "...          ...         ...          ...          ...   ...   ...   ...  ...\n",
              "4266326        S  -1.0732955  -0.20493264  -0.38501665     0     1     0    1\n",
              "4266327        S   0.4670769  -0.54581726  -0.48728204     0     1     0    1\n",
              "4266328        S  0.80156994   -0.8685924  -0.81005716     0     1     0    1\n",
              "4266329        S   1.7155669   -1.2265213   -1.2329671     0     1     0    1\n",
              "4266330        S   1.8114406   -1.7538271   -1.9648038     0     1     0    1\n",
              "\n",
              "[4266331 rows x 8 columns]"
            ]
          },
          "metadata": {
            "tags": []
          },
          "execution_count": 10
        }
      ]
    },
    {
      "cell_type": "code",
      "metadata": {
        "id": "EK0A_gb6Qe58",
        "colab_type": "code",
        "outputId": "cdac64f5-a0a9-4fb6-d7d9-9cb862fd5028",
        "colab": {
          "base_uri": "https://localhost:8080/",
          "height": 67
        }
      },
      "source": [
        "train_data['watch'].value_counts()"
      ],
      "execution_count": 11,
      "outputs": [
        {
          "output_type": "execute_result",
          "data": {
            "text/plain": [
              "0    2967557\n",
              "1    2607453\n",
              "Name: watch, dtype: int64"
            ]
          },
          "metadata": {
            "tags": []
          },
          "execution_count": 11
        }
      ]
    },
    {
      "cell_type": "code",
      "metadata": {
        "id": "YA3AJSjrQ34T",
        "colab_type": "code",
        "outputId": "d518cf2f-60b9-4a72-ea23-04b1cd18cf69",
        "colab": {
          "base_uri": "https://localhost:8080/",
          "height": 269
        }
      },
      "source": [
        "train_data.info()"
      ],
      "execution_count": 12,
      "outputs": [
        {
          "output_type": "stream",
          "text": [
            "<class 'pandas.core.frame.DataFrame'>\n",
            "RangeIndex: 5575010 entries, 0 to 5575009\n",
            "Data columns (total 8 columns):\n",
            " #   Column    Dtype \n",
            "---  ------    ----- \n",
            " 0   activity  object\n",
            " 1   x         object\n",
            " 2   y         object\n",
            " 3   z         object\n",
            " 4   phone     object\n",
            " 5   watch     object\n",
            " 6   accel     object\n",
            " 7   gyro      object\n",
            "dtypes: object(8)\n",
            "memory usage: 340.3+ MB\n"
          ],
          "name": "stdout"
        }
      ]
    },
    {
      "cell_type": "code",
      "metadata": {
        "id": "nlJRNw4JQ59r",
        "colab_type": "code",
        "outputId": "4620d455-76c6-48f5-8600-4643eae356d7",
        "colab": {
          "base_uri": "https://localhost:8080/",
          "height": 168
        }
      },
      "source": [
        "train_data.isnull().sum()"
      ],
      "execution_count": 13,
      "outputs": [
        {
          "output_type": "execute_result",
          "data": {
            "text/plain": [
              "activity    0\n",
              "x           0\n",
              "y           0\n",
              "z           0\n",
              "phone       0\n",
              "watch       0\n",
              "accel       0\n",
              "gyro        0\n",
              "dtype: int64"
            ]
          },
          "metadata": {
            "tags": []
          },
          "execution_count": 13
        }
      ]
    },
    {
      "cell_type": "code",
      "metadata": {
        "id": "e_CI-qPSRAkM",
        "colab_type": "code",
        "outputId": "36dbbf04-7be4-4074-a0c9-382eed9544f5",
        "colab": {
          "base_uri": "https://localhost:8080/",
          "height": 336
        }
      },
      "source": [
        "train_data['activity'].value_counts()"
      ],
      "execution_count": 14,
      "outputs": [
        {
          "output_type": "execute_result",
          "data": {
            "text/plain": [
              "P    326432\n",
              "M    322790\n",
              "K    319861\n",
              "A    316410\n",
              "L    316264\n",
              "H    315551\n",
              "I    312049\n",
              "C    310189\n",
              "O    309299\n",
              "J    307813\n",
              "S    306874\n",
              "D    305053\n",
              "Q    305052\n",
              "E    304954\n",
              "R    304814\n",
              "G    304798\n",
              "F    297731\n",
              "B    289076\n",
              "Name: activity, dtype: int64"
            ]
          },
          "metadata": {
            "tags": []
          },
          "execution_count": 14
        }
      ]
    },
    {
      "cell_type": "code",
      "metadata": {
        "id": "RN6c5jPxksw2",
        "colab_type": "code",
        "colab": {
          "base_uri": "https://localhost:8080/",
          "height": 336
        },
        "outputId": "5710330d-643f-4813-d128-c263571b8e0f"
      },
      "source": [
        "test_data['activity'].value_counts()"
      ],
      "execution_count": 15,
      "outputs": [
        {
          "output_type": "execute_result",
          "data": {
            "text/plain": [
              "E    254010\n",
              "K    248869\n",
              "Q    247684\n",
              "G    244279\n",
              "B    243794\n",
              "S    242737\n",
              "R    242200\n",
              "D    241924\n",
              "A    238685\n",
              "I    234942\n",
              "F    233184\n",
              "O    231527\n",
              "M    230931\n",
              "H    228832\n",
              "C    228180\n",
              "L    225801\n",
              "P    225440\n",
              "J    223312\n",
              "Name: activity, dtype: int64"
            ]
          },
          "metadata": {
            "tags": []
          },
          "execution_count": 15
        }
      ]
    },
    {
      "cell_type": "code",
      "metadata": {
        "id": "P0xu-XUmREYV",
        "colab_type": "code",
        "colab": {}
      },
      "source": [
        "train_data['x'] = train_data['x'].astype('float')\n",
        "train_data['y'] = train_data['y'].astype('float')\n",
        "train_data['z'] = train_data['z'].astype('float')\n",
        "train_data['phone'] = train_data['phone'].astype('int')\n",
        "train_data['watch'] = train_data['watch'].astype('int')\n",
        "train_data['accel'] = train_data['accel'].astype('int')\n",
        "train_data['gyro'] = train_data['gyro'].astype('int')"
      ],
      "execution_count": 0,
      "outputs": []
    },
    {
      "cell_type": "code",
      "metadata": {
        "id": "0S4B9fuERH5w",
        "colab_type": "code",
        "outputId": "f07383c4-9877-4b56-8599-391549f21eda",
        "colab": {
          "base_uri": "https://localhost:8080/",
          "height": 269
        }
      },
      "source": [
        "train_data.info()"
      ],
      "execution_count": 17,
      "outputs": [
        {
          "output_type": "stream",
          "text": [
            "<class 'pandas.core.frame.DataFrame'>\n",
            "RangeIndex: 5575010 entries, 0 to 5575009\n",
            "Data columns (total 8 columns):\n",
            " #   Column    Dtype  \n",
            "---  ------    -----  \n",
            " 0   activity  object \n",
            " 1   x         float64\n",
            " 2   y         float64\n",
            " 3   z         float64\n",
            " 4   phone     int64  \n",
            " 5   watch     int64  \n",
            " 6   accel     int64  \n",
            " 7   gyro      int64  \n",
            "dtypes: float64(3), int64(4), object(1)\n",
            "memory usage: 340.3+ MB\n"
          ],
          "name": "stdout"
        }
      ]
    },
    {
      "cell_type": "code",
      "metadata": {
        "id": "EakkaXSmk06F",
        "colab_type": "code",
        "colab": {}
      },
      "source": [
        "test_data['x'] = test_data['x'].astype('float')\n",
        "test_data['y'] = test_data['y'].astype('float')\n",
        "test_data['z'] = test_data['z'].astype('float')\n",
        "test_data['phone'] = test_data['phone'].astype('int')\n",
        "test_data['watch'] = test_data['watch'].astype('int')\n",
        "test_data['accel'] = test_data['accel'].astype('int')\n",
        "test_data['gyro'] = test_data['gyro'].astype('int')"
      ],
      "execution_count": 0,
      "outputs": []
    },
    {
      "cell_type": "code",
      "metadata": {
        "id": "Orjjzf70k1UK",
        "colab_type": "code",
        "colab": {
          "base_uri": "https://localhost:8080/",
          "height": 269
        },
        "outputId": "950542bc-bdd1-4bfc-c23c-3fd7d7da0b6e"
      },
      "source": [
        "test_data.info()"
      ],
      "execution_count": 19,
      "outputs": [
        {
          "output_type": "stream",
          "text": [
            "<class 'pandas.core.frame.DataFrame'>\n",
            "RangeIndex: 4266331 entries, 0 to 4266330\n",
            "Data columns (total 8 columns):\n",
            " #   Column    Dtype  \n",
            "---  ------    -----  \n",
            " 0   activity  object \n",
            " 1   x         float64\n",
            " 2   y         float64\n",
            " 3   z         float64\n",
            " 4   phone     int64  \n",
            " 5   watch     int64  \n",
            " 6   accel     int64  \n",
            " 7   gyro      int64  \n",
            "dtypes: float64(3), int64(4), object(1)\n",
            "memory usage: 260.4+ MB\n"
          ],
          "name": "stdout"
        }
      ]
    },
    {
      "cell_type": "code",
      "metadata": {
        "id": "rxa2sx_jV4dS",
        "colab_type": "code",
        "colab": {}
      },
      "source": [
        "X_train = pd.DataFrame(train_data.iloc[:, 1:].values, columns = ['x', 'y', 'z', 'phone', 'watch', 'accel', 'gyro'])\n",
        "y_train = pd.DataFrame(train_data.iloc[:, 0].values, columns=['activity'])"
      ],
      "execution_count": 0,
      "outputs": []
    },
    {
      "cell_type": "code",
      "metadata": {
        "id": "Qh_f4PWwshaE",
        "colab_type": "code",
        "colab": {
          "base_uri": "https://localhost:8080/",
          "height": 34
        },
        "outputId": "4503865e-d186-457c-9a79-ae7a177a826d"
      },
      "source": [
        "type(X_train)"
      ],
      "execution_count": 21,
      "outputs": [
        {
          "output_type": "execute_result",
          "data": {
            "text/plain": [
              "pandas.core.frame.DataFrame"
            ]
          },
          "metadata": {
            "tags": []
          },
          "execution_count": 21
        }
      ]
    },
    {
      "cell_type": "code",
      "metadata": {
        "id": "6IHiX9R_RKKq",
        "colab_type": "code",
        "colab": {}
      },
      "source": [
        "X_test = pd.DataFrame(test_data.iloc[:, 1:].values, columns = ['x', 'y', 'z', 'phone', 'watch', 'accel', 'gyro'])\n",
        "y_test = pd.DataFrame(test_data.iloc[:, 0].values, columns=['activity'])"
      ],
      "execution_count": 0,
      "outputs": []
    },
    {
      "cell_type": "code",
      "metadata": {
        "id": "7Fh62DAaRpPT",
        "colab_type": "code",
        "colab": {}
      },
      "source": [
        "y_train = pd.get_dummies(y_train, columns=[\"activity\"])"
      ],
      "execution_count": 0,
      "outputs": []
    },
    {
      "cell_type": "code",
      "metadata": {
        "id": "In7NDMixlPR2",
        "colab_type": "code",
        "colab": {}
      },
      "source": [
        "y_test = pd.get_dummies(y_test, columns=[\"activity\"])"
      ],
      "execution_count": 0,
      "outputs": []
    },
    {
      "cell_type": "code",
      "metadata": {
        "id": "MUywjOExlPwZ",
        "colab_type": "code",
        "colab": {}
      },
      "source": [
        "col_names = ['x', 'y', 'z', 'phone', 'watch', 'accel', 'gyro']\n",
        "features = X_train[col_names]\n",
        "\n",
        "from sklearn.compose import ColumnTransformer\n",
        "from sklearn.preprocessing import StandardScaler\n",
        "\n",
        "ct = ColumnTransformer([\n",
        "        ('somename', StandardScaler(), ['x', 'y', 'z'])\n",
        "    ], remainder='passthrough')\n",
        "\n",
        "X_train = ct.fit_transform(features)"
      ],
      "execution_count": 0,
      "outputs": []
    },
    {
      "cell_type": "code",
      "metadata": {
        "id": "vIbpEVwWvSf4",
        "colab_type": "code",
        "colab": {}
      },
      "source": [
        "X_train = pd.DataFrame(data = X_train, columns=['x', 'y', 'z', 'phone', 'watch', 'accel', 'gyro'])"
      ],
      "execution_count": 0,
      "outputs": []
    },
    {
      "cell_type": "code",
      "metadata": {
        "id": "O95x9-kzvVsu",
        "colab_type": "code",
        "colab": {
          "base_uri": "https://localhost:8080/",
          "height": 402
        },
        "outputId": "f137c69c-b864-4074-c3d8-a6b73455d5ec"
      },
      "source": [
        "X_train"
      ],
      "execution_count": 27,
      "outputs": [
        {
          "output_type": "execute_result",
          "data": {
            "text/html": [
              "<div>\n",
              "<style scoped>\n",
              "    .dataframe tbody tr th:only-of-type {\n",
              "        vertical-align: middle;\n",
              "    }\n",
              "\n",
              "    .dataframe tbody tr th {\n",
              "        vertical-align: top;\n",
              "    }\n",
              "\n",
              "    .dataframe thead th {\n",
              "        text-align: right;\n",
              "    }\n",
              "</style>\n",
              "<table border=\"1\" class=\"dataframe\">\n",
              "  <thead>\n",
              "    <tr style=\"text-align: right;\">\n",
              "      <th></th>\n",
              "      <th>x</th>\n",
              "      <th>y</th>\n",
              "      <th>z</th>\n",
              "      <th>phone</th>\n",
              "      <th>watch</th>\n",
              "      <th>accel</th>\n",
              "      <th>gyro</th>\n",
              "    </tr>\n",
              "  </thead>\n",
              "  <tbody>\n",
              "    <tr>\n",
              "      <th>0</th>\n",
              "      <td>-0.135440</td>\n",
              "      <td>1.879602</td>\n",
              "      <td>-0.033606</td>\n",
              "      <td>1.0</td>\n",
              "      <td>0.0</td>\n",
              "      <td>1.0</td>\n",
              "      <td>0.0</td>\n",
              "    </tr>\n",
              "    <tr>\n",
              "      <th>1</th>\n",
              "      <td>-0.249271</td>\n",
              "      <td>2.070913</td>\n",
              "      <td>-0.043512</td>\n",
              "      <td>1.0</td>\n",
              "      <td>0.0</td>\n",
              "      <td>1.0</td>\n",
              "      <td>0.0</td>\n",
              "    </tr>\n",
              "    <tr>\n",
              "      <th>2</th>\n",
              "      <td>0.387611</td>\n",
              "      <td>2.333823</td>\n",
              "      <td>0.373178</td>\n",
              "      <td>1.0</td>\n",
              "      <td>0.0</td>\n",
              "      <td>1.0</td>\n",
              "      <td>0.0</td>\n",
              "    </tr>\n",
              "    <tr>\n",
              "      <th>3</th>\n",
              "      <td>0.044797</td>\n",
              "      <td>2.636413</td>\n",
              "      <td>-0.260014</td>\n",
              "      <td>1.0</td>\n",
              "      <td>0.0</td>\n",
              "      <td>1.0</td>\n",
              "      <td>0.0</td>\n",
              "    </tr>\n",
              "    <tr>\n",
              "      <th>4</th>\n",
              "      <td>-0.533231</td>\n",
              "      <td>2.886869</td>\n",
              "      <td>-1.458216</td>\n",
              "      <td>1.0</td>\n",
              "      <td>0.0</td>\n",
              "      <td>1.0</td>\n",
              "      <td>0.0</td>\n",
              "    </tr>\n",
              "    <tr>\n",
              "      <th>...</th>\n",
              "      <td>...</td>\n",
              "      <td>...</td>\n",
              "      <td>...</td>\n",
              "      <td>...</td>\n",
              "      <td>...</td>\n",
              "      <td>...</td>\n",
              "      <td>...</td>\n",
              "    </tr>\n",
              "    <tr>\n",
              "      <th>5575005</th>\n",
              "      <td>-0.287201</td>\n",
              "      <td>0.228146</td>\n",
              "      <td>-0.255089</td>\n",
              "      <td>0.0</td>\n",
              "      <td>1.0</td>\n",
              "      <td>0.0</td>\n",
              "      <td>1.0</td>\n",
              "    </tr>\n",
              "    <tr>\n",
              "      <th>5575006</th>\n",
              "      <td>-0.356196</td>\n",
              "      <td>0.236507</td>\n",
              "      <td>-0.239574</td>\n",
              "      <td>0.0</td>\n",
              "      <td>1.0</td>\n",
              "      <td>0.0</td>\n",
              "      <td>1.0</td>\n",
              "    </tr>\n",
              "    <tr>\n",
              "      <th>5575007</th>\n",
              "      <td>-0.318049</td>\n",
              "      <td>0.266597</td>\n",
              "      <td>-0.226275</td>\n",
              "      <td>0.0</td>\n",
              "      <td>1.0</td>\n",
              "      <td>0.0</td>\n",
              "      <td>1.0</td>\n",
              "    </tr>\n",
              "    <tr>\n",
              "      <th>5575008</th>\n",
              "      <td>-0.133675</td>\n",
              "      <td>0.255940</td>\n",
              "      <td>-0.242067</td>\n",
              "      <td>0.0</td>\n",
              "      <td>1.0</td>\n",
              "      <td>0.0</td>\n",
              "      <td>1.0</td>\n",
              "    </tr>\n",
              "    <tr>\n",
              "      <th>5575009</th>\n",
              "      <td>-0.065859</td>\n",
              "      <td>0.222088</td>\n",
              "      <td>-0.290552</td>\n",
              "      <td>0.0</td>\n",
              "      <td>1.0</td>\n",
              "      <td>0.0</td>\n",
              "      <td>1.0</td>\n",
              "    </tr>\n",
              "  </tbody>\n",
              "</table>\n",
              "<p>5575010 rows × 7 columns</p>\n",
              "</div>"
            ],
            "text/plain": [
              "                x         y         z  phone  watch  accel  gyro\n",
              "0       -0.135440  1.879602 -0.033606    1.0    0.0    1.0   0.0\n",
              "1       -0.249271  2.070913 -0.043512    1.0    0.0    1.0   0.0\n",
              "2        0.387611  2.333823  0.373178    1.0    0.0    1.0   0.0\n",
              "3        0.044797  2.636413 -0.260014    1.0    0.0    1.0   0.0\n",
              "4       -0.533231  2.886869 -1.458216    1.0    0.0    1.0   0.0\n",
              "...           ...       ...       ...    ...    ...    ...   ...\n",
              "5575005 -0.287201  0.228146 -0.255089    0.0    1.0    0.0   1.0\n",
              "5575006 -0.356196  0.236507 -0.239574    0.0    1.0    0.0   1.0\n",
              "5575007 -0.318049  0.266597 -0.226275    0.0    1.0    0.0   1.0\n",
              "5575008 -0.133675  0.255940 -0.242067    0.0    1.0    0.0   1.0\n",
              "5575009 -0.065859  0.222088 -0.290552    0.0    1.0    0.0   1.0\n",
              "\n",
              "[5575010 rows x 7 columns]"
            ]
          },
          "metadata": {
            "tags": []
          },
          "execution_count": 27
        }
      ]
    },
    {
      "cell_type": "code",
      "metadata": {
        "id": "UqUYTay8wCI5",
        "colab_type": "code",
        "colab": {}
      },
      "source": [
        "col_names = ['x', 'y', 'z', 'phone', 'watch', 'accel', 'gyro']\n",
        "features = X_test[col_names]\n",
        "\n",
        "from sklearn.compose import ColumnTransformer\n",
        "from sklearn.preprocessing import StandardScaler\n",
        "\n",
        "ct = ColumnTransformer([\n",
        "        ('somename', StandardScaler(), ['x', 'y', 'z'])\n",
        "    ], remainder='passthrough')\n",
        "\n",
        "X_test = ct.fit_transform(features)"
      ],
      "execution_count": 0,
      "outputs": []
    },
    {
      "cell_type": "code",
      "metadata": {
        "id": "2c4To1VPwCjV",
        "colab_type": "code",
        "colab": {}
      },
      "source": [
        "X_test = pd.DataFrame(data = X_test, columns=['x', 'y', 'z', 'phone', 'watch', 'accel', 'gyro'])"
      ],
      "execution_count": 0,
      "outputs": []
    },
    {
      "cell_type": "code",
      "metadata": {
        "id": "VhdTPHOFwC8K",
        "colab_type": "code",
        "colab": {
          "base_uri": "https://localhost:8080/",
          "height": 402
        },
        "outputId": "ee85b8bd-0830-4aa7-c0f3-cc00e610701f"
      },
      "source": [
        "X_test"
      ],
      "execution_count": 30,
      "outputs": [
        {
          "output_type": "execute_result",
          "data": {
            "text/html": [
              "<div>\n",
              "<style scoped>\n",
              "    .dataframe tbody tr th:only-of-type {\n",
              "        vertical-align: middle;\n",
              "    }\n",
              "\n",
              "    .dataframe tbody tr th {\n",
              "        vertical-align: top;\n",
              "    }\n",
              "\n",
              "    .dataframe thead th {\n",
              "        text-align: right;\n",
              "    }\n",
              "</style>\n",
              "<table border=\"1\" class=\"dataframe\">\n",
              "  <thead>\n",
              "    <tr style=\"text-align: right;\">\n",
              "      <th></th>\n",
              "      <th>x</th>\n",
              "      <th>y</th>\n",
              "      <th>z</th>\n",
              "      <th>phone</th>\n",
              "      <th>watch</th>\n",
              "      <th>accel</th>\n",
              "      <th>gyro</th>\n",
              "    </tr>\n",
              "  </thead>\n",
              "  <tbody>\n",
              "    <tr>\n",
              "      <th>0</th>\n",
              "      <td>1.329708</td>\n",
              "      <td>1.472194</td>\n",
              "      <td>-0.257922</td>\n",
              "      <td>1.0</td>\n",
              "      <td>0.0</td>\n",
              "      <td>1.0</td>\n",
              "      <td>0.0</td>\n",
              "    </tr>\n",
              "    <tr>\n",
              "      <th>1</th>\n",
              "      <td>2.187481</td>\n",
              "      <td>2.384323</td>\n",
              "      <td>-0.826341</td>\n",
              "      <td>1.0</td>\n",
              "      <td>0.0</td>\n",
              "      <td>1.0</td>\n",
              "      <td>0.0</td>\n",
              "    </tr>\n",
              "    <tr>\n",
              "      <th>2</th>\n",
              "      <td>1.575423</td>\n",
              "      <td>2.518858</td>\n",
              "      <td>-0.255855</td>\n",
              "      <td>1.0</td>\n",
              "      <td>0.0</td>\n",
              "      <td>1.0</td>\n",
              "      <td>0.0</td>\n",
              "    </tr>\n",
              "    <tr>\n",
              "      <th>3</th>\n",
              "      <td>1.303597</td>\n",
              "      <td>2.146302</td>\n",
              "      <td>-0.330846</td>\n",
              "      <td>1.0</td>\n",
              "      <td>0.0</td>\n",
              "      <td>1.0</td>\n",
              "      <td>0.0</td>\n",
              "    </tr>\n",
              "    <tr>\n",
              "      <th>4</th>\n",
              "      <td>1.203347</td>\n",
              "      <td>1.753241</td>\n",
              "      <td>-1.165220</td>\n",
              "      <td>1.0</td>\n",
              "      <td>0.0</td>\n",
              "      <td>1.0</td>\n",
              "      <td>0.0</td>\n",
              "    </tr>\n",
              "    <tr>\n",
              "      <th>...</th>\n",
              "      <td>...</td>\n",
              "      <td>...</td>\n",
              "      <td>...</td>\n",
              "      <td>...</td>\n",
              "      <td>...</td>\n",
              "      <td>...</td>\n",
              "      <td>...</td>\n",
              "    </tr>\n",
              "    <tr>\n",
              "      <th>4266326</th>\n",
              "      <td>-0.275303</td>\n",
              "      <td>0.259297</td>\n",
              "      <td>-0.151313</td>\n",
              "      <td>0.0</td>\n",
              "      <td>1.0</td>\n",
              "      <td>0.0</td>\n",
              "      <td>1.0</td>\n",
              "    </tr>\n",
              "    <tr>\n",
              "      <th>4266327</th>\n",
              "      <td>0.067908</td>\n",
              "      <td>0.191830</td>\n",
              "      <td>-0.178110</td>\n",
              "      <td>0.0</td>\n",
              "      <td>1.0</td>\n",
              "      <td>0.0</td>\n",
              "      <td>1.0</td>\n",
              "    </tr>\n",
              "    <tr>\n",
              "      <th>4266328</th>\n",
              "      <td>0.142437</td>\n",
              "      <td>0.127947</td>\n",
              "      <td>-0.262687</td>\n",
              "      <td>0.0</td>\n",
              "      <td>1.0</td>\n",
              "      <td>0.0</td>\n",
              "      <td>1.0</td>\n",
              "    </tr>\n",
              "    <tr>\n",
              "      <th>4266329</th>\n",
              "      <td>0.346085</td>\n",
              "      <td>0.057106</td>\n",
              "      <td>-0.373503</td>\n",
              "      <td>0.0</td>\n",
              "      <td>1.0</td>\n",
              "      <td>0.0</td>\n",
              "      <td>1.0</td>\n",
              "    </tr>\n",
              "    <tr>\n",
              "      <th>4266330</th>\n",
              "      <td>0.367446</td>\n",
              "      <td>-0.047257</td>\n",
              "      <td>-0.565267</td>\n",
              "      <td>0.0</td>\n",
              "      <td>1.0</td>\n",
              "      <td>0.0</td>\n",
              "      <td>1.0</td>\n",
              "    </tr>\n",
              "  </tbody>\n",
              "</table>\n",
              "<p>4266331 rows × 7 columns</p>\n",
              "</div>"
            ],
            "text/plain": [
              "                x         y         z  phone  watch  accel  gyro\n",
              "0        1.329708  1.472194 -0.257922    1.0    0.0    1.0   0.0\n",
              "1        2.187481  2.384323 -0.826341    1.0    0.0    1.0   0.0\n",
              "2        1.575423  2.518858 -0.255855    1.0    0.0    1.0   0.0\n",
              "3        1.303597  2.146302 -0.330846    1.0    0.0    1.0   0.0\n",
              "4        1.203347  1.753241 -1.165220    1.0    0.0    1.0   0.0\n",
              "...           ...       ...       ...    ...    ...    ...   ...\n",
              "4266326 -0.275303  0.259297 -0.151313    0.0    1.0    0.0   1.0\n",
              "4266327  0.067908  0.191830 -0.178110    0.0    1.0    0.0   1.0\n",
              "4266328  0.142437  0.127947 -0.262687    0.0    1.0    0.0   1.0\n",
              "4266329  0.346085  0.057106 -0.373503    0.0    1.0    0.0   1.0\n",
              "4266330  0.367446 -0.047257 -0.565267    0.0    1.0    0.0   1.0\n",
              "\n",
              "[4266331 rows x 7 columns]"
            ]
          },
          "metadata": {
            "tags": []
          },
          "execution_count": 30
        }
      ]
    },
    {
      "cell_type": "code",
      "metadata": {
        "id": "op5d0mKHfqJ4",
        "colab_type": "code",
        "colab": {}
      },
      "source": [
        "import scipy.stats as stats\n",
        "import numpy as np"
      ],
      "execution_count": 0,
      "outputs": []
    },
    {
      "cell_type": "code",
      "metadata": {
        "id": "TUReH1yFhYl2",
        "colab_type": "code",
        "colab": {}
      },
      "source": [
        "Fs = 20\n",
        "frame_size = Fs*4\n",
        "hop_size = Fs*2"
      ],
      "execution_count": 0,
      "outputs": []
    },
    {
      "cell_type": "code",
      "metadata": {
        "id": "vWMEVpaUhZRe",
        "colab_type": "code",
        "colab": {}
      },
      "source": [
        "def get_input_frames(df, frame_size, hop_size):\n",
        "\n",
        "  N_FEATURES = 7\n",
        "\n",
        "  frames = []\n",
        "  \n",
        "  for i in range(0, len(df) - frame_size, hop_size):\n",
        "    x = df['x'].values[i: i + frame_size]\n",
        "    y = df['y'].values[i: i + frame_size]\n",
        "    z = df['z'].values[i: i + frame_size]\n",
        "    phone = df['phone'].values[i: i + frame_size]\n",
        "    watch = df['watch'].values[i: i + frame_size]\n",
        "    accel = df['accel'].values[i: i + frame_size]\n",
        "    gyro = df['gyro'].values[i: i + frame_size]\n",
        "\n",
        "    frames.append([x, y, z, phone, watch, accel, gyro])\n",
        "  \n",
        "  frames = np.asarray(frames).reshape(-1, frame_size, N_FEATURES)\n",
        "\n",
        "  return frames"
      ],
      "execution_count": 0,
      "outputs": []
    },
    {
      "cell_type": "code",
      "metadata": {
        "id": "fTc6Y7WJhrgP",
        "colab_type": "code",
        "colab": {}
      },
      "source": [
        "X_train_frames = get_input_frames(X_train, frame_size, hop_size)"
      ],
      "execution_count": 0,
      "outputs": []
    },
    {
      "cell_type": "code",
      "metadata": {
        "id": "VZBfMPuVrtwi",
        "colab_type": "code",
        "colab": {
          "base_uri": "https://localhost:8080/",
          "height": 34
        },
        "outputId": "21ab7545-c83d-4a8d-9b12-212fc6621561"
      },
      "source": [
        "print(type(X_test))"
      ],
      "execution_count": 35,
      "outputs": [
        {
          "output_type": "stream",
          "text": [
            "<class 'pandas.core.frame.DataFrame'>\n"
          ],
          "name": "stdout"
        }
      ]
    },
    {
      "cell_type": "code",
      "metadata": {
        "id": "ER0DHotgruJ7",
        "colab_type": "code",
        "colab": {}
      },
      "source": [
        "X_test_frames = get_input_frames(X_test, frame_size, hop_size)"
      ],
      "execution_count": 0,
      "outputs": []
    },
    {
      "cell_type": "code",
      "metadata": {
        "id": "ZtSOk3F2ifZP",
        "colab_type": "code",
        "outputId": "08d38500-d086-44fb-a8ca-ad1b96f40e57",
        "colab": {
          "base_uri": "https://localhost:8080/",
          "height": 34
        }
      },
      "source": [
        "X_train_frames.shape, X_test_frames.shape"
      ],
      "execution_count": 37,
      "outputs": [
        {
          "output_type": "execute_result",
          "data": {
            "text/plain": [
              "((139374, 80, 7), (106657, 80, 7))"
            ]
          },
          "metadata": {
            "tags": []
          },
          "execution_count": 37
        }
      ]
    },
    {
      "cell_type": "code",
      "metadata": {
        "id": "ZDDkqqJx2lEG",
        "colab_type": "code",
        "colab": {
          "base_uri": "https://localhost:8080/",
          "height": 34
        },
        "outputId": "bdcae096-f84e-4c77-b339-f7befdf624f5"
      },
      "source": [
        "y_train_frames.shape, y_test_frames.shape"
      ],
      "execution_count": 50,
      "outputs": [
        {
          "output_type": "execute_result",
          "data": {
            "text/plain": [
              "((139374, 80, 18), (106657, 80, 18))"
            ]
          },
          "metadata": {
            "tags": []
          },
          "execution_count": 50
        }
      ]
    },
    {
      "cell_type": "code",
      "metadata": {
        "id": "FaEEXFIvjY1M",
        "colab_type": "code",
        "colab": {}
      },
      "source": [
        "X_train_frames = X_train_frames.reshape(139374, 80, 7, 1)\n",
        "X_test_frames = X_test_frames.reshape(106657, 80, 7, 1)"
      ],
      "execution_count": 0,
      "outputs": []
    },
    {
      "cell_type": "code",
      "metadata": {
        "id": "R1oepATW2f_b",
        "colab_type": "code",
        "colab": {}
      },
      "source": [
        "y_train_frames = y_train_frames.reshape(139374, 80, 18, 1)\n",
        "y_test_frames = y_test_frames.reshape(106657, 80, 18, 1)"
      ],
      "execution_count": 0,
      "outputs": []
    },
    {
      "cell_type": "code",
      "metadata": {
        "id": "qC8lVkmnjf5U",
        "colab_type": "code",
        "outputId": "67b95953-23ab-48d9-ac7f-47f7f59b9843",
        "colab": {
          "base_uri": "https://localhost:8080/",
          "height": 34
        }
      },
      "source": [
        "X_train_frames[0].shape"
      ],
      "execution_count": 71,
      "outputs": [
        {
          "output_type": "execute_result",
          "data": {
            "text/plain": [
              "(80, 7)"
            ]
          },
          "metadata": {
            "tags": []
          },
          "execution_count": 71
        }
      ]
    },
    {
      "cell_type": "code",
      "metadata": {
        "id": "xi_VTmpUw-6o",
        "colab_type": "code",
        "colab": {}
      },
      "source": [
        "def get_output_frames(df, frame_size, hop_size):\n",
        "\n",
        "  N_FEATURES = 18\n",
        "\n",
        "  frames = []\n",
        "  \n",
        "  for i in range(0, len(df) - frame_size, hop_size):\n",
        "    activity_A = df['activity_A'].values[i: i + frame_size]\n",
        "    activity_B = df['activity_B'].values[i: i + frame_size]\n",
        "    activity_C = df['activity_C'].values[i: i + frame_size]\n",
        "    activity_D = df['activity_D'].values[i: i + frame_size]\n",
        "    activity_E = df['activity_E'].values[i: i + frame_size]\n",
        "    activity_F = df['activity_F'].values[i: i + frame_size]\n",
        "    activity_G = df['activity_G'].values[i: i + frame_size]\n",
        "    activity_H = df['activity_H'].values[i: i + frame_size]\n",
        "    activity_I = df['activity_I'].values[i: i + frame_size]\n",
        "    activity_J = df['activity_J'].values[i: i + frame_size]\n",
        "    activity_K = df['activity_K'].values[i: i + frame_size]\n",
        "    activity_L = df['activity_L'].values[i: i + frame_size]\n",
        "    activity_M = df['activity_M'].values[i: i + frame_size]\n",
        "    activity_O = df['activity_O'].values[i: i + frame_size]\n",
        "    activity_P = df['activity_P'].values[i: i + frame_size]\n",
        "    activity_Q = df['activity_Q'].values[i: i + frame_size]\n",
        "    activity_R = df['activity_R'].values[i: i + frame_size]\n",
        "    activity_S = df['activity_S'].values[i: i + frame_size]\n",
        "\n",
        "    frames.append([activity_A,\tactivity_B,\tactivity_C,\tactivity_D,\tactivity_E,\tactivity_F,\tactivity_G,\tactivity_H,\tactivity_I,\tactivity_J,\tactivity_K,\tactivity_L,\tactivity_M,\tactivity_O,\tactivity_P,\tactivity_Q,\tactivity_R,\tactivity_S])\n",
        "  \n",
        "  frames = np.asarray(frames).reshape(-1, frame_size, N_FEATURES)\n",
        "\n",
        "  return frames"
      ],
      "execution_count": 0,
      "outputs": []
    },
    {
      "cell_type": "code",
      "metadata": {
        "id": "86xI4Arww_Ux",
        "colab_type": "code",
        "colab": {}
      },
      "source": [
        "y_train_frames = get_output_frames(y_train, frame_size, hop_size)"
      ],
      "execution_count": 0,
      "outputs": []
    },
    {
      "cell_type": "code",
      "metadata": {
        "id": "Edt1zADPyPJV",
        "colab_type": "code",
        "colab": {}
      },
      "source": [
        "y_test_frames = get_output_frames(y_test, frame_size, hop_size)"
      ],
      "execution_count": 0,
      "outputs": []
    },
    {
      "cell_type": "code",
      "metadata": {
        "id": "arSEiQQD6fVt",
        "colab_type": "code",
        "colab": {
          "base_uri": "https://localhost:8080/",
          "height": 34
        },
        "outputId": "8ac5323c-fa07-447e-b502-5de75f0b3305"
      },
      "source": [
        "type(y_train_frames)"
      ],
      "execution_count": 86,
      "outputs": [
        {
          "output_type": "execute_result",
          "data": {
            "text/plain": [
              "list"
            ]
          },
          "metadata": {
            "tags": []
          },
          "execution_count": 86
        }
      ]
    },
    {
      "cell_type": "code",
      "metadata": {
        "id": "0_VAj_CIjrsA",
        "colab_type": "code",
        "colab": {}
      },
      "source": [
        "import tensorflow as tf\n",
        "from tensorflow.keras import Sequential\n",
        "from tensorflow.keras.layers import Flatten, Dense, Dropout, BatchNormalization\n",
        "from tensorflow.keras.layers import Conv2D, MaxPool2D\n",
        "from tensorflow.keras.optimizers import Adam"
      ],
      "execution_count": 0,
      "outputs": []
    },
    {
      "cell_type": "code",
      "metadata": {
        "id": "FuxdAcCp3sA6",
        "colab_type": "code",
        "colab": {
          "base_uri": "https://localhost:8080/",
          "height": 34
        },
        "outputId": "31972ec5-abf6-45e5-bb51-5a42f0eb0c4b"
      },
      "source": [
        "from keras.models import Sequential\n",
        "from keras.layers import Conv2D\n",
        "from keras.layers import MaxPooling2D\n",
        "from keras.layers import Flatten\n",
        "from keras.layers import Dense"
      ],
      "execution_count": 61,
      "outputs": [
        {
          "output_type": "stream",
          "text": [
            "Using TensorFlow backend.\n"
          ],
          "name": "stderr"
        }
      ]
    },
    {
      "cell_type": "code",
      "metadata": {
        "id": "youRpUDb1Lrt",
        "colab_type": "code",
        "colab": {
          "base_uri": "https://localhost:8080/",
          "height": 346
        },
        "outputId": "8ea153e4-705d-461f-a47b-8f22024f3a44"
      },
      "source": [
        "model = Sequential()\n",
        "model.add(Conv2D(80, (1,1), activation='relu', input_shape=X_train_frames[0].shape))\n",
        "model.add(Dropout(0.2))\n",
        "\n",
        "model.add(Conv2D(64, (1,1), activation='relu'))\n",
        "model.add(Dropout(0.3))\n",
        "\n",
        "model.add(Conv2D(64, (1,1), activation='relu'))\n",
        "model.add(Dropout(0.2))\n",
        "\n",
        "model.add(Dense(32, activation='relu'))\n",
        "model.add(Dropout(0.1))\n",
        "\n",
        "model.add(Flatten())\n",
        "\n",
        "model.add(Dense(18, activation='softmax'))\n",
        "\n"
      ],
      "execution_count": 73,
      "outputs": [
        {
          "output_type": "error",
          "ename": "TypeError",
          "evalue": "ignored",
          "traceback": [
            "\u001b[0;31m---------------------------------------------------------------------------\u001b[0m",
            "\u001b[0;31mTypeError\u001b[0m                                 Traceback (most recent call last)",
            "\u001b[0;32m<ipython-input-73-ecf554768cb7>\u001b[0m in \u001b[0;36m<module>\u001b[0;34m()\u001b[0m\n\u001b[1;32m      1\u001b[0m \u001b[0mmodel\u001b[0m \u001b[0;34m=\u001b[0m \u001b[0mSequential\u001b[0m\u001b[0;34m(\u001b[0m\u001b[0;34m)\u001b[0m\u001b[0;34m\u001b[0m\u001b[0;34m\u001b[0m\u001b[0m\n\u001b[1;32m      2\u001b[0m \u001b[0mmodel\u001b[0m\u001b[0;34m.\u001b[0m\u001b[0madd\u001b[0m\u001b[0;34m(\u001b[0m\u001b[0mConv2D\u001b[0m\u001b[0;34m(\u001b[0m\u001b[0;36m80\u001b[0m\u001b[0;34m,\u001b[0m \u001b[0;34m(\u001b[0m\u001b[0;36m1\u001b[0m\u001b[0;34m,\u001b[0m\u001b[0;36m1\u001b[0m\u001b[0;34m)\u001b[0m\u001b[0;34m,\u001b[0m \u001b[0mactivation\u001b[0m\u001b[0;34m=\u001b[0m\u001b[0;34m'relu'\u001b[0m\u001b[0;34m,\u001b[0m \u001b[0minput_shape\u001b[0m\u001b[0;34m=\u001b[0m\u001b[0mX_train_frames\u001b[0m\u001b[0;34m[\u001b[0m\u001b[0;36m0\u001b[0m\u001b[0;34m]\u001b[0m\u001b[0;34m.\u001b[0m\u001b[0mshape\u001b[0m\u001b[0;34m)\u001b[0m\u001b[0;34m)\u001b[0m\u001b[0;34m\u001b[0m\u001b[0;34m\u001b[0m\u001b[0m\n\u001b[0;32m----> 3\u001b[0;31m \u001b[0mmodel\u001b[0m\u001b[0;34m.\u001b[0m\u001b[0madd\u001b[0m\u001b[0;34m(\u001b[0m\u001b[0mDropout\u001b[0m\u001b[0;34m(\u001b[0m\u001b[0;36m0.2\u001b[0m\u001b[0;34m)\u001b[0m\u001b[0;34m)\u001b[0m\u001b[0;34m\u001b[0m\u001b[0;34m\u001b[0m\u001b[0m\n\u001b[0m\u001b[1;32m      4\u001b[0m \u001b[0;34m\u001b[0m\u001b[0m\n\u001b[1;32m      5\u001b[0m \u001b[0mmodel\u001b[0m\u001b[0;34m.\u001b[0m\u001b[0madd\u001b[0m\u001b[0;34m(\u001b[0m\u001b[0mConv2D\u001b[0m\u001b[0;34m(\u001b[0m\u001b[0;36m64\u001b[0m\u001b[0;34m,\u001b[0m \u001b[0;34m(\u001b[0m\u001b[0;36m1\u001b[0m\u001b[0;34m,\u001b[0m\u001b[0;36m1\u001b[0m\u001b[0;34m)\u001b[0m\u001b[0;34m,\u001b[0m \u001b[0mactivation\u001b[0m\u001b[0;34m=\u001b[0m\u001b[0;34m'relu'\u001b[0m\u001b[0;34m)\u001b[0m\u001b[0;34m)\u001b[0m\u001b[0;34m\u001b[0m\u001b[0;34m\u001b[0m\u001b[0m\n",
            "\u001b[0;32m/usr/local/lib/python3.6/dist-packages/keras/engine/sequential.py\u001b[0m in \u001b[0;36madd\u001b[0;34m(self, layer)\u001b[0m\n\u001b[1;32m    131\u001b[0m             raise TypeError('The added layer must be '\n\u001b[1;32m    132\u001b[0m                             \u001b[0;34m'an instance of class Layer. '\u001b[0m\u001b[0;34m\u001b[0m\u001b[0;34m\u001b[0m\u001b[0m\n\u001b[0;32m--> 133\u001b[0;31m                             'Found: ' + str(layer))\n\u001b[0m\u001b[1;32m    134\u001b[0m         \u001b[0mself\u001b[0m\u001b[0;34m.\u001b[0m\u001b[0mbuilt\u001b[0m \u001b[0;34m=\u001b[0m \u001b[0;32mFalse\u001b[0m\u001b[0;34m\u001b[0m\u001b[0;34m\u001b[0m\u001b[0m\n\u001b[1;32m    135\u001b[0m         \u001b[0;32mif\u001b[0m \u001b[0;32mnot\u001b[0m \u001b[0mself\u001b[0m\u001b[0;34m.\u001b[0m\u001b[0m_layers\u001b[0m\u001b[0;34m:\u001b[0m\u001b[0;34m\u001b[0m\u001b[0;34m\u001b[0m\u001b[0m\n",
            "\u001b[0;31mTypeError\u001b[0m: The added layer must be an instance of class Layer. Found: <tensorflow.python.keras.layers.core.Dropout object at 0x7f7a7a4b5a20>"
          ]
        }
      ]
    },
    {
      "cell_type": "code",
      "metadata": {
        "id": "53pKS4Xy3vPe",
        "colab_type": "code",
        "colab": {}
      },
      "source": [
        "# Initialising the CNN\n",
        "classifier = Sequential()\n",
        "\n",
        "# Step 1 - Convolution\n",
        "classifier.add(Conv2D(32, (1,1), input_shape = X_train_frames[0].shape, activation = 'relu'))\n",
        "\n",
        "# Step 2 - Pooling\n",
        "classifier.add(MaxPooling2D(pool_size = (1,1)))\n",
        "\n",
        "# Adding a second convolutional layer\n",
        "classifier.add(Conv2D(32, (1,1), activation = 'relu'))\n",
        "classifier.add(MaxPooling2D(pool_size = (1,1)))\n",
        "\n",
        "# Step 3 - Flattening\n",
        "classifier.add(Flatten())\n",
        "\n",
        "# Step 4 - Full connection\n",
        "classifier.add(Dense(units = 128, activation = 'relu'))\n",
        "classifier.add(Dense(units = 18, activation = 'relu'))\n",
        "classifier.add(Dense(units = 1, activation = 'sigmoid'))"
      ],
      "execution_count": 0,
      "outputs": []
    },
    {
      "cell_type": "code",
      "metadata": {
        "id": "P0Tu_BgXjnqp",
        "colab_type": "code",
        "colab": {}
      },
      "source": [
        "classifier.compile(optimizer=Adam(learning_rate=0.001), loss='sparse_categorical_crossentropy', metrics=['accuracy'])"
      ],
      "execution_count": 0,
      "outputs": []
    },
    {
      "cell_type": "code",
      "metadata": {
        "id": "6bzR11y_2PS9",
        "colab_type": "code",
        "colab": {
          "base_uri": "https://localhost:8080/",
          "height": 323
        },
        "outputId": "f71e724e-1490-4911-e1fe-324a48257ad3"
      },
      "source": [
        "history = classifier.fit(X_train_frames, y_train_frames, epochs = 10, validation_data=(X_test_frames, y_test_frames), verbose=1)"
      ],
      "execution_count": 79,
      "outputs": [
        {
          "output_type": "error",
          "ename": "ValueError",
          "evalue": "ignored",
          "traceback": [
            "\u001b[0;31m---------------------------------------------------------------------------\u001b[0m",
            "\u001b[0;31mValueError\u001b[0m                                Traceback (most recent call last)",
            "\u001b[0;32m<ipython-input-79-d2128b9705d2>\u001b[0m in \u001b[0;36m<module>\u001b[0;34m()\u001b[0m\n\u001b[0;32m----> 1\u001b[0;31m \u001b[0mhistory\u001b[0m \u001b[0;34m=\u001b[0m \u001b[0mclassifier\u001b[0m\u001b[0;34m.\u001b[0m\u001b[0mfit\u001b[0m\u001b[0;34m(\u001b[0m\u001b[0mX_train_frames\u001b[0m\u001b[0;34m,\u001b[0m \u001b[0my_train_frames\u001b[0m\u001b[0;34m,\u001b[0m \u001b[0mepochs\u001b[0m \u001b[0;34m=\u001b[0m \u001b[0;36m10\u001b[0m\u001b[0;34m,\u001b[0m \u001b[0mvalidation_data\u001b[0m\u001b[0;34m=\u001b[0m\u001b[0;34m(\u001b[0m\u001b[0mX_test_frames\u001b[0m\u001b[0;34m,\u001b[0m \u001b[0my_test_frames\u001b[0m\u001b[0;34m)\u001b[0m\u001b[0;34m,\u001b[0m \u001b[0mverbose\u001b[0m\u001b[0;34m=\u001b[0m\u001b[0;36m1\u001b[0m\u001b[0;34m)\u001b[0m\u001b[0;34m\u001b[0m\u001b[0;34m\u001b[0m\u001b[0m\n\u001b[0m",
            "\u001b[0;32m/usr/local/lib/python3.6/dist-packages/keras/engine/training.py\u001b[0m in \u001b[0;36mfit\u001b[0;34m(self, x, y, batch_size, epochs, verbose, callbacks, validation_split, validation_data, shuffle, class_weight, sample_weight, initial_epoch, steps_per_epoch, validation_steps, validation_freq, max_queue_size, workers, use_multiprocessing, **kwargs)\u001b[0m\n\u001b[1;32m   1152\u001b[0m             \u001b[0msample_weight\u001b[0m\u001b[0;34m=\u001b[0m\u001b[0msample_weight\u001b[0m\u001b[0;34m,\u001b[0m\u001b[0;34m\u001b[0m\u001b[0;34m\u001b[0m\u001b[0m\n\u001b[1;32m   1153\u001b[0m             \u001b[0mclass_weight\u001b[0m\u001b[0;34m=\u001b[0m\u001b[0mclass_weight\u001b[0m\u001b[0;34m,\u001b[0m\u001b[0;34m\u001b[0m\u001b[0;34m\u001b[0m\u001b[0m\n\u001b[0;32m-> 1154\u001b[0;31m             batch_size=batch_size)\n\u001b[0m\u001b[1;32m   1155\u001b[0m \u001b[0;34m\u001b[0m\u001b[0m\n\u001b[1;32m   1156\u001b[0m         \u001b[0;31m# Prepare validation data.\u001b[0m\u001b[0;34m\u001b[0m\u001b[0;34m\u001b[0m\u001b[0;34m\u001b[0m\u001b[0m\n",
            "\u001b[0;32m/usr/local/lib/python3.6/dist-packages/keras/engine/training.py\u001b[0m in \u001b[0;36m_standardize_user_data\u001b[0;34m(self, x, y, sample_weight, class_weight, check_array_lengths, batch_size)\u001b[0m\n\u001b[1;32m    619\u001b[0m                 \u001b[0mfeed_output_shapes\u001b[0m\u001b[0;34m,\u001b[0m\u001b[0;34m\u001b[0m\u001b[0;34m\u001b[0m\u001b[0m\n\u001b[1;32m    620\u001b[0m                 \u001b[0mcheck_batch_axis\u001b[0m\u001b[0;34m=\u001b[0m\u001b[0;32mFalse\u001b[0m\u001b[0;34m,\u001b[0m  \u001b[0;31m# Don't enforce the batch size.\u001b[0m\u001b[0;34m\u001b[0m\u001b[0;34m\u001b[0m\u001b[0m\n\u001b[0;32m--> 621\u001b[0;31m                 exception_prefix='target')\n\u001b[0m\u001b[1;32m    622\u001b[0m \u001b[0;34m\u001b[0m\u001b[0m\n\u001b[1;32m    623\u001b[0m             \u001b[0;31m# Generate sample-wise weight values given the `sample_weight` and\u001b[0m\u001b[0;34m\u001b[0m\u001b[0;34m\u001b[0m\u001b[0;34m\u001b[0m\u001b[0m\n",
            "\u001b[0;32m/usr/local/lib/python3.6/dist-packages/keras/engine/training_utils.py\u001b[0m in \u001b[0;36mstandardize_input_data\u001b[0;34m(data, names, shapes, check_batch_axis, exception_prefix)\u001b[0m\n\u001b[1;32m    133\u001b[0m                         \u001b[0;34m': expected '\u001b[0m \u001b[0;34m+\u001b[0m \u001b[0mnames\u001b[0m\u001b[0;34m[\u001b[0m\u001b[0mi\u001b[0m\u001b[0;34m]\u001b[0m \u001b[0;34m+\u001b[0m \u001b[0;34m' to have '\u001b[0m \u001b[0;34m+\u001b[0m\u001b[0;34m\u001b[0m\u001b[0;34m\u001b[0m\u001b[0m\n\u001b[1;32m    134\u001b[0m                         \u001b[0mstr\u001b[0m\u001b[0;34m(\u001b[0m\u001b[0mlen\u001b[0m\u001b[0;34m(\u001b[0m\u001b[0mshape\u001b[0m\u001b[0;34m)\u001b[0m\u001b[0;34m)\u001b[0m \u001b[0;34m+\u001b[0m \u001b[0;34m' dimensions, but got array '\u001b[0m\u001b[0;34m\u001b[0m\u001b[0;34m\u001b[0m\u001b[0m\n\u001b[0;32m--> 135\u001b[0;31m                         'with shape ' + str(data_shape))\n\u001b[0m\u001b[1;32m    136\u001b[0m                 \u001b[0;32mif\u001b[0m \u001b[0;32mnot\u001b[0m \u001b[0mcheck_batch_axis\u001b[0m\u001b[0;34m:\u001b[0m\u001b[0;34m\u001b[0m\u001b[0;34m\u001b[0m\u001b[0m\n\u001b[1;32m    137\u001b[0m                     \u001b[0mdata_shape\u001b[0m \u001b[0;34m=\u001b[0m \u001b[0mdata_shape\u001b[0m\u001b[0;34m[\u001b[0m\u001b[0;36m1\u001b[0m\u001b[0;34m:\u001b[0m\u001b[0;34m]\u001b[0m\u001b[0;34m\u001b[0m\u001b[0;34m\u001b[0m\u001b[0m\n",
            "\u001b[0;31mValueError\u001b[0m: Error when checking target: expected dense_7 to have 2 dimensions, but got array with shape (139374, 80, 18)"
          ]
        }
      ]
    },
    {
      "cell_type": "code",
      "metadata": {
        "id": "fKlT8enp2i8-",
        "colab_type": "code",
        "colab": {}
      },
      "source": [
        "import tensorflow as tf\n",
        "\n",
        "from tensorflow import feature_column\n",
        "from tensorflow.keras import layers\n",
        "\n",
        "model = tf.keras.Sequential([\n",
        "  feature_layer,\n",
        "  layers.Dense(128, activation='relu'),\n",
        "  layers.Dense(128, activation='relu'),\n",
        "  layers.Dense(1)\n",
        "])\n",
        "\n",
        "model.compile(optimizer='adam',\n",
        "              loss=tf.keras.losses.BinaryCrossentropy(from_logits=True),\n",
        "              metrics=['accuracy'])\n",
        "\n",
        "model.fit(train_ds,\n",
        "          validation_data=val_ds,\n",
        "          epochs=5)"
      ],
      "execution_count": 0,
      "outputs": []
    },
    {
      "cell_type": "code",
      "metadata": {
        "id": "5bwJPA3Ij0_z",
        "colab_type": "code",
        "colab": {}
      },
      "source": [
        "from tensorflow.keras.layers import Dense, LSTM, Dropout\n",
        "from tensorflow.keras.models import Sequential\n",
        "from tensorflow.keras.callbacks import ModelCheckpoint, EarlyStopping\n",
        "from tensorflow.keras.utils import to_categorical"
      ],
      "execution_count": 0,
      "outputs": []
    },
    {
      "cell_type": "code",
      "metadata": {
        "id": "wyMGoklhmNa6",
        "colab_type": "code",
        "colab": {}
      },
      "source": [
        "callbacks1 = ModelCheckpoint('/content/drive/My Drive/doLSTM.hdf5', save_best_only=True)\n",
        "callbacks2 = EarlyStopping(monitor='val_acc', patience=100, verbose=1)\n",
        "callbacks = [callbacks1, callbacks2]"
      ],
      "execution_count": 0,
      "outputs": []
    },
    {
      "cell_type": "code",
      "metadata": {
        "id": "xX9y2iyTetP1",
        "colab_type": "code",
        "colab": {}
      },
      "source": [
        "X_train_final = X_train_final.reshape(139374, 80, 6)\n",
        "X_test_final = X_test_final.reshape(106657, 80, 6)"
      ],
      "execution_count": 0,
      "outputs": []
    },
    {
      "cell_type": "code",
      "metadata": {
        "id": "YK4uGte3rGrP",
        "colab_type": "code",
        "colab": {
          "base_uri": "https://localhost:8080/",
          "height": 87
        },
        "outputId": "4e7cc52f-0ff4-4bec-f911-9a0f9c3a42e0"
      },
      "source": [
        "model = Sequential()\n",
        "\n",
        "model.add(LSTM(256, input_shape=(80, 6), activation='sigmoid', return_sequences=True))\n",
        "model.add(Dropout(0.1))\n",
        "\n",
        "model.add(LSTM(128, return_sequences=True, activation='sigmoid'))\n",
        "model.add(Dropout(0.1))\n",
        "\n",
        "model.add(LSTM(64, activation='sigmoid'))\n",
        "\n",
        "model.add(Dense(64))\n",
        "model.add(Dropout(0.1))\n",
        "\n",
        "model.add(Dense(64))\n",
        "\n",
        "model.add(Dense(18))\n",
        "\n",
        "model.add(Dense(1, activation=\"softmax\"))"
      ],
      "execution_count": 69,
      "outputs": [
        {
          "output_type": "stream",
          "text": [
            "WARNING:tensorflow:Layer lstm_7 will not use cuDNN kernel since it doesn't meet the cuDNN kernel criteria. It will use generic GPU kernel as fallback when running on GPU\n",
            "WARNING:tensorflow:Layer lstm_8 will not use cuDNN kernel since it doesn't meet the cuDNN kernel criteria. It will use generic GPU kernel as fallback when running on GPU\n",
            "WARNING:tensorflow:Layer lstm_9 will not use cuDNN kernel since it doesn't meet the cuDNN kernel criteria. It will use generic GPU kernel as fallback when running on GPU\n"
          ],
          "name": "stdout"
        }
      ]
    },
    {
      "cell_type": "code",
      "metadata": {
        "id": "GYuBs6wOqRXC",
        "colab_type": "code",
        "colab": {}
      },
      "source": [
        "model.compile(optimizer=\"adam\", loss=\"categorical_crossentropy\", metrics=['accuracy'])"
      ],
      "execution_count": 0,
      "outputs": []
    },
    {
      "cell_type": "code",
      "metadata": {
        "id": "SQz8A3Weqpz9",
        "colab_type": "code",
        "outputId": "aa8176db-3aea-42ff-8946-9f1dfb4050d7",
        "colab": {
          "base_uri": "https://localhost:8080/",
          "height": 407
        }
      },
      "source": [
        "model.fit(X_train_final, y_train_final, validation_data=(X_test_final, y_test_final), epochs = 100, callbacks = callbacks)"
      ],
      "execution_count": 71,
      "outputs": [
        {
          "output_type": "stream",
          "text": [
            "Epoch 1/100\n",
            "4356/4356 [==============================] - ETA: 0s - loss: 0.0000e+00 - accuracy: 0.0518WARNING:tensorflow:Early stopping conditioned on metric `val_acc` which is not available. Available metrics are: loss,accuracy,val_loss,val_accuracy\n",
            "4356/4356 [==============================] - 1997s 458ms/step - loss: 0.0000e+00 - accuracy: 0.0518 - val_loss: 0.0000e+00 - val_accuracy: 0.0571\n",
            "Epoch 2/100\n",
            " 663/4356 [===>..........................] - ETA: 26:30 - loss: 0.0000e+00 - accuracy: 0.0511"
          ],
          "name": "stdout"
        },
        {
          "output_type": "error",
          "ename": "KeyboardInterrupt",
          "evalue": "ignored",
          "traceback": [
            "\u001b[0;31m---------------------------------------------------------------------------\u001b[0m",
            "\u001b[0;31mKeyboardInterrupt\u001b[0m                         Traceback (most recent call last)",
            "\u001b[0;32m<ipython-input-71-ee2f9b5001f5>\u001b[0m in \u001b[0;36m<module>\u001b[0;34m()\u001b[0m\n\u001b[0;32m----> 1\u001b[0;31m \u001b[0mmodel\u001b[0m\u001b[0;34m.\u001b[0m\u001b[0mfit\u001b[0m\u001b[0;34m(\u001b[0m\u001b[0mX_train_final\u001b[0m\u001b[0;34m,\u001b[0m \u001b[0my_train_final\u001b[0m\u001b[0;34m,\u001b[0m \u001b[0mvalidation_data\u001b[0m\u001b[0;34m=\u001b[0m\u001b[0;34m(\u001b[0m\u001b[0mX_test_final\u001b[0m\u001b[0;34m,\u001b[0m \u001b[0my_test_final\u001b[0m\u001b[0;34m)\u001b[0m\u001b[0;34m,\u001b[0m \u001b[0mepochs\u001b[0m \u001b[0;34m=\u001b[0m \u001b[0;36m100\u001b[0m\u001b[0;34m,\u001b[0m \u001b[0mcallbacks\u001b[0m \u001b[0;34m=\u001b[0m \u001b[0mcallbacks\u001b[0m\u001b[0;34m)\u001b[0m\u001b[0;34m\u001b[0m\u001b[0;34m\u001b[0m\u001b[0m\n\u001b[0m",
            "\u001b[0;32m/usr/local/lib/python3.6/dist-packages/tensorflow/python/keras/engine/training.py\u001b[0m in \u001b[0;36m_method_wrapper\u001b[0;34m(self, *args, **kwargs)\u001b[0m\n\u001b[1;32m     64\u001b[0m   \u001b[0;32mdef\u001b[0m \u001b[0m_method_wrapper\u001b[0m\u001b[0;34m(\u001b[0m\u001b[0mself\u001b[0m\u001b[0;34m,\u001b[0m \u001b[0;34m*\u001b[0m\u001b[0margs\u001b[0m\u001b[0;34m,\u001b[0m \u001b[0;34m**\u001b[0m\u001b[0mkwargs\u001b[0m\u001b[0;34m)\u001b[0m\u001b[0;34m:\u001b[0m\u001b[0;34m\u001b[0m\u001b[0;34m\u001b[0m\u001b[0m\n\u001b[1;32m     65\u001b[0m     \u001b[0;32mif\u001b[0m \u001b[0;32mnot\u001b[0m \u001b[0mself\u001b[0m\u001b[0;34m.\u001b[0m\u001b[0m_in_multi_worker_mode\u001b[0m\u001b[0;34m(\u001b[0m\u001b[0;34m)\u001b[0m\u001b[0;34m:\u001b[0m  \u001b[0;31m# pylint: disable=protected-access\u001b[0m\u001b[0;34m\u001b[0m\u001b[0;34m\u001b[0m\u001b[0m\n\u001b[0;32m---> 66\u001b[0;31m       \u001b[0;32mreturn\u001b[0m \u001b[0mmethod\u001b[0m\u001b[0;34m(\u001b[0m\u001b[0mself\u001b[0m\u001b[0;34m,\u001b[0m \u001b[0;34m*\u001b[0m\u001b[0margs\u001b[0m\u001b[0;34m,\u001b[0m \u001b[0;34m**\u001b[0m\u001b[0mkwargs\u001b[0m\u001b[0;34m)\u001b[0m\u001b[0;34m\u001b[0m\u001b[0;34m\u001b[0m\u001b[0m\n\u001b[0m\u001b[1;32m     67\u001b[0m \u001b[0;34m\u001b[0m\u001b[0m\n\u001b[1;32m     68\u001b[0m     \u001b[0;31m# Running inside `run_distribute_coordinator` already.\u001b[0m\u001b[0;34m\u001b[0m\u001b[0;34m\u001b[0m\u001b[0;34m\u001b[0m\u001b[0m\n",
            "\u001b[0;32m/usr/local/lib/python3.6/dist-packages/tensorflow/python/keras/engine/training.py\u001b[0m in \u001b[0;36mfit\u001b[0;34m(self, x, y, batch_size, epochs, verbose, callbacks, validation_split, validation_data, shuffle, class_weight, sample_weight, initial_epoch, steps_per_epoch, validation_steps, validation_batch_size, validation_freq, max_queue_size, workers, use_multiprocessing)\u001b[0m\n\u001b[1;32m    846\u001b[0m                 batch_size=batch_size):\n\u001b[1;32m    847\u001b[0m               \u001b[0mcallbacks\u001b[0m\u001b[0;34m.\u001b[0m\u001b[0mon_train_batch_begin\u001b[0m\u001b[0;34m(\u001b[0m\u001b[0mstep\u001b[0m\u001b[0;34m)\u001b[0m\u001b[0;34m\u001b[0m\u001b[0;34m\u001b[0m\u001b[0m\n\u001b[0;32m--> 848\u001b[0;31m               \u001b[0mtmp_logs\u001b[0m \u001b[0;34m=\u001b[0m \u001b[0mtrain_function\u001b[0m\u001b[0;34m(\u001b[0m\u001b[0miterator\u001b[0m\u001b[0;34m)\u001b[0m\u001b[0;34m\u001b[0m\u001b[0;34m\u001b[0m\u001b[0m\n\u001b[0m\u001b[1;32m    849\u001b[0m               \u001b[0;31m# Catch OutOfRangeError for Datasets of unknown size.\u001b[0m\u001b[0;34m\u001b[0m\u001b[0;34m\u001b[0m\u001b[0;34m\u001b[0m\u001b[0m\n\u001b[1;32m    850\u001b[0m               \u001b[0;31m# This blocks until the batch has finished executing.\u001b[0m\u001b[0;34m\u001b[0m\u001b[0;34m\u001b[0m\u001b[0;34m\u001b[0m\u001b[0m\n",
            "\u001b[0;32m/usr/local/lib/python3.6/dist-packages/tensorflow/python/eager/def_function.py\u001b[0m in \u001b[0;36m__call__\u001b[0;34m(self, *args, **kwds)\u001b[0m\n\u001b[1;32m    578\u001b[0m         \u001b[0mxla_context\u001b[0m\u001b[0;34m.\u001b[0m\u001b[0mExit\u001b[0m\u001b[0;34m(\u001b[0m\u001b[0;34m)\u001b[0m\u001b[0;34m\u001b[0m\u001b[0;34m\u001b[0m\u001b[0m\n\u001b[1;32m    579\u001b[0m     \u001b[0;32melse\u001b[0m\u001b[0;34m:\u001b[0m\u001b[0;34m\u001b[0m\u001b[0;34m\u001b[0m\u001b[0m\n\u001b[0;32m--> 580\u001b[0;31m       \u001b[0mresult\u001b[0m \u001b[0;34m=\u001b[0m \u001b[0mself\u001b[0m\u001b[0;34m.\u001b[0m\u001b[0m_call\u001b[0m\u001b[0;34m(\u001b[0m\u001b[0;34m*\u001b[0m\u001b[0margs\u001b[0m\u001b[0;34m,\u001b[0m \u001b[0;34m**\u001b[0m\u001b[0mkwds\u001b[0m\u001b[0;34m)\u001b[0m\u001b[0;34m\u001b[0m\u001b[0;34m\u001b[0m\u001b[0m\n\u001b[0m\u001b[1;32m    581\u001b[0m \u001b[0;34m\u001b[0m\u001b[0m\n\u001b[1;32m    582\u001b[0m     \u001b[0;32mif\u001b[0m \u001b[0mtracing_count\u001b[0m \u001b[0;34m==\u001b[0m \u001b[0mself\u001b[0m\u001b[0;34m.\u001b[0m\u001b[0m_get_tracing_count\u001b[0m\u001b[0;34m(\u001b[0m\u001b[0;34m)\u001b[0m\u001b[0;34m:\u001b[0m\u001b[0;34m\u001b[0m\u001b[0;34m\u001b[0m\u001b[0m\n",
            "\u001b[0;32m/usr/local/lib/python3.6/dist-packages/tensorflow/python/eager/def_function.py\u001b[0m in \u001b[0;36m_call\u001b[0;34m(self, *args, **kwds)\u001b[0m\n\u001b[1;32m    609\u001b[0m       \u001b[0;31m# In this case we have created variables on the first call, so we run the\u001b[0m\u001b[0;34m\u001b[0m\u001b[0;34m\u001b[0m\u001b[0;34m\u001b[0m\u001b[0m\n\u001b[1;32m    610\u001b[0m       \u001b[0;31m# defunned version which is guaranteed to never create variables.\u001b[0m\u001b[0;34m\u001b[0m\u001b[0;34m\u001b[0m\u001b[0;34m\u001b[0m\u001b[0m\n\u001b[0;32m--> 611\u001b[0;31m       \u001b[0;32mreturn\u001b[0m \u001b[0mself\u001b[0m\u001b[0;34m.\u001b[0m\u001b[0m_stateless_fn\u001b[0m\u001b[0;34m(\u001b[0m\u001b[0;34m*\u001b[0m\u001b[0margs\u001b[0m\u001b[0;34m,\u001b[0m \u001b[0;34m**\u001b[0m\u001b[0mkwds\u001b[0m\u001b[0;34m)\u001b[0m  \u001b[0;31m# pylint: disable=not-callable\u001b[0m\u001b[0;34m\u001b[0m\u001b[0;34m\u001b[0m\u001b[0m\n\u001b[0m\u001b[1;32m    612\u001b[0m     \u001b[0;32melif\u001b[0m \u001b[0mself\u001b[0m\u001b[0;34m.\u001b[0m\u001b[0m_stateful_fn\u001b[0m \u001b[0;32mis\u001b[0m \u001b[0;32mnot\u001b[0m \u001b[0;32mNone\u001b[0m\u001b[0;34m:\u001b[0m\u001b[0;34m\u001b[0m\u001b[0;34m\u001b[0m\u001b[0m\n\u001b[1;32m    613\u001b[0m       \u001b[0;31m# Release the lock early so that multiple threads can perform the call\u001b[0m\u001b[0;34m\u001b[0m\u001b[0;34m\u001b[0m\u001b[0;34m\u001b[0m\u001b[0m\n",
            "\u001b[0;32m/usr/local/lib/python3.6/dist-packages/tensorflow/python/eager/function.py\u001b[0m in \u001b[0;36m__call__\u001b[0;34m(self, *args, **kwargs)\u001b[0m\n\u001b[1;32m   2418\u001b[0m     \u001b[0;32mwith\u001b[0m \u001b[0mself\u001b[0m\u001b[0;34m.\u001b[0m\u001b[0m_lock\u001b[0m\u001b[0;34m:\u001b[0m\u001b[0;34m\u001b[0m\u001b[0;34m\u001b[0m\u001b[0m\n\u001b[1;32m   2419\u001b[0m       \u001b[0mgraph_function\u001b[0m\u001b[0;34m,\u001b[0m \u001b[0margs\u001b[0m\u001b[0;34m,\u001b[0m \u001b[0mkwargs\u001b[0m \u001b[0;34m=\u001b[0m \u001b[0mself\u001b[0m\u001b[0;34m.\u001b[0m\u001b[0m_maybe_define_function\u001b[0m\u001b[0;34m(\u001b[0m\u001b[0margs\u001b[0m\u001b[0;34m,\u001b[0m \u001b[0mkwargs\u001b[0m\u001b[0;34m)\u001b[0m\u001b[0;34m\u001b[0m\u001b[0;34m\u001b[0m\u001b[0m\n\u001b[0;32m-> 2420\u001b[0;31m     \u001b[0;32mreturn\u001b[0m \u001b[0mgraph_function\u001b[0m\u001b[0;34m.\u001b[0m\u001b[0m_filtered_call\u001b[0m\u001b[0;34m(\u001b[0m\u001b[0margs\u001b[0m\u001b[0;34m,\u001b[0m \u001b[0mkwargs\u001b[0m\u001b[0;34m)\u001b[0m  \u001b[0;31m# pylint: disable=protected-access\u001b[0m\u001b[0;34m\u001b[0m\u001b[0;34m\u001b[0m\u001b[0m\n\u001b[0m\u001b[1;32m   2421\u001b[0m \u001b[0;34m\u001b[0m\u001b[0m\n\u001b[1;32m   2422\u001b[0m   \u001b[0;34m@\u001b[0m\u001b[0mproperty\u001b[0m\u001b[0;34m\u001b[0m\u001b[0;34m\u001b[0m\u001b[0m\n",
            "\u001b[0;32m/usr/local/lib/python3.6/dist-packages/tensorflow/python/eager/function.py\u001b[0m in \u001b[0;36m_filtered_call\u001b[0;34m(self, args, kwargs)\u001b[0m\n\u001b[1;32m   1663\u001b[0m          if isinstance(t, (ops.Tensor,\n\u001b[1;32m   1664\u001b[0m                            resource_variable_ops.BaseResourceVariable))),\n\u001b[0;32m-> 1665\u001b[0;31m         self.captured_inputs)\n\u001b[0m\u001b[1;32m   1666\u001b[0m \u001b[0;34m\u001b[0m\u001b[0m\n\u001b[1;32m   1667\u001b[0m   \u001b[0;32mdef\u001b[0m \u001b[0m_call_flat\u001b[0m\u001b[0;34m(\u001b[0m\u001b[0mself\u001b[0m\u001b[0;34m,\u001b[0m \u001b[0margs\u001b[0m\u001b[0;34m,\u001b[0m \u001b[0mcaptured_inputs\u001b[0m\u001b[0;34m,\u001b[0m \u001b[0mcancellation_manager\u001b[0m\u001b[0;34m=\u001b[0m\u001b[0;32mNone\u001b[0m\u001b[0;34m)\u001b[0m\u001b[0;34m:\u001b[0m\u001b[0;34m\u001b[0m\u001b[0;34m\u001b[0m\u001b[0m\n",
            "\u001b[0;32m/usr/local/lib/python3.6/dist-packages/tensorflow/python/eager/function.py\u001b[0m in \u001b[0;36m_call_flat\u001b[0;34m(self, args, captured_inputs, cancellation_manager)\u001b[0m\n\u001b[1;32m   1744\u001b[0m       \u001b[0;31m# No tape is watching; skip to running the function.\u001b[0m\u001b[0;34m\u001b[0m\u001b[0;34m\u001b[0m\u001b[0;34m\u001b[0m\u001b[0m\n\u001b[1;32m   1745\u001b[0m       return self._build_call_outputs(self._inference_function.call(\n\u001b[0;32m-> 1746\u001b[0;31m           ctx, args, cancellation_manager=cancellation_manager))\n\u001b[0m\u001b[1;32m   1747\u001b[0m     forward_backward = self._select_forward_and_backward_functions(\n\u001b[1;32m   1748\u001b[0m         \u001b[0margs\u001b[0m\u001b[0;34m,\u001b[0m\u001b[0;34m\u001b[0m\u001b[0;34m\u001b[0m\u001b[0m\n",
            "\u001b[0;32m/usr/local/lib/python3.6/dist-packages/tensorflow/python/eager/function.py\u001b[0m in \u001b[0;36mcall\u001b[0;34m(self, ctx, args, cancellation_manager)\u001b[0m\n\u001b[1;32m    596\u001b[0m               \u001b[0minputs\u001b[0m\u001b[0;34m=\u001b[0m\u001b[0margs\u001b[0m\u001b[0;34m,\u001b[0m\u001b[0;34m\u001b[0m\u001b[0;34m\u001b[0m\u001b[0m\n\u001b[1;32m    597\u001b[0m               \u001b[0mattrs\u001b[0m\u001b[0;34m=\u001b[0m\u001b[0mattrs\u001b[0m\u001b[0;34m,\u001b[0m\u001b[0;34m\u001b[0m\u001b[0;34m\u001b[0m\u001b[0m\n\u001b[0;32m--> 598\u001b[0;31m               ctx=ctx)\n\u001b[0m\u001b[1;32m    599\u001b[0m         \u001b[0;32melse\u001b[0m\u001b[0;34m:\u001b[0m\u001b[0;34m\u001b[0m\u001b[0;34m\u001b[0m\u001b[0m\n\u001b[1;32m    600\u001b[0m           outputs = execute.execute_with_cancellation(\n",
            "\u001b[0;32m/usr/local/lib/python3.6/dist-packages/tensorflow/python/eager/execute.py\u001b[0m in \u001b[0;36mquick_execute\u001b[0;34m(op_name, num_outputs, inputs, attrs, ctx, name)\u001b[0m\n\u001b[1;32m     58\u001b[0m     \u001b[0mctx\u001b[0m\u001b[0;34m.\u001b[0m\u001b[0mensure_initialized\u001b[0m\u001b[0;34m(\u001b[0m\u001b[0;34m)\u001b[0m\u001b[0;34m\u001b[0m\u001b[0;34m\u001b[0m\u001b[0m\n\u001b[1;32m     59\u001b[0m     tensors = pywrap_tfe.TFE_Py_Execute(ctx._handle, device_name, op_name,\n\u001b[0;32m---> 60\u001b[0;31m                                         inputs, attrs, num_outputs)\n\u001b[0m\u001b[1;32m     61\u001b[0m   \u001b[0;32mexcept\u001b[0m \u001b[0mcore\u001b[0m\u001b[0;34m.\u001b[0m\u001b[0m_NotOkStatusException\u001b[0m \u001b[0;32mas\u001b[0m \u001b[0me\u001b[0m\u001b[0;34m:\u001b[0m\u001b[0;34m\u001b[0m\u001b[0;34m\u001b[0m\u001b[0m\n\u001b[1;32m     62\u001b[0m     \u001b[0;32mif\u001b[0m \u001b[0mname\u001b[0m \u001b[0;32mis\u001b[0m \u001b[0;32mnot\u001b[0m \u001b[0;32mNone\u001b[0m\u001b[0;34m:\u001b[0m\u001b[0;34m\u001b[0m\u001b[0;34m\u001b[0m\u001b[0m\n",
            "\u001b[0;31mKeyboardInterrupt\u001b[0m: "
          ]
        }
      ]
    },
    {
      "cell_type": "code",
      "metadata": {
        "id": "k8rUcI18ibwa",
        "colab_type": "code",
        "colab": {}
      },
      "source": [
        "X_tr = scaled_X_train.loc[:, scaled_X_train.columns != 'label']\n",
        "X_tr = X_tr.loc[:, X_tr.columns != 'timestamp']\n",
        "y_tr = scaled_X_train['label']"
      ],
      "execution_count": 0,
      "outputs": []
    },
    {
      "cell_type": "code",
      "metadata": {
        "id": "nUN-Z-Ymi9k6",
        "colab_type": "code",
        "colab": {
          "base_uri": "https://localhost:8080/",
          "height": 402
        },
        "outputId": "56f58df7-eca1-4393-9ad6-fa79e68a22e7"
      },
      "source": [
        "X_tr"
      ],
      "execution_count": 54,
      "outputs": [
        {
          "output_type": "execute_result",
          "data": {
            "text/html": [
              "<div>\n",
              "<style scoped>\n",
              "    .dataframe tbody tr th:only-of-type {\n",
              "        vertical-align: middle;\n",
              "    }\n",
              "\n",
              "    .dataframe tbody tr th {\n",
              "        vertical-align: top;\n",
              "    }\n",
              "\n",
              "    .dataframe thead th {\n",
              "        text-align: right;\n",
              "    }\n",
              "</style>\n",
              "<table border=\"1\" class=\"dataframe\">\n",
              "  <thead>\n",
              "    <tr style=\"text-align: right;\">\n",
              "      <th></th>\n",
              "      <th>x</th>\n",
              "      <th>y</th>\n",
              "      <th>z</th>\n",
              "      <th>source</th>\n",
              "      <th>sensor</th>\n",
              "    </tr>\n",
              "  </thead>\n",
              "  <tbody>\n",
              "    <tr>\n",
              "      <th>0</th>\n",
              "      <td>-0.135440</td>\n",
              "      <td>1.879602</td>\n",
              "      <td>-0.033606</td>\n",
              "      <td>0</td>\n",
              "      <td>0</td>\n",
              "    </tr>\n",
              "    <tr>\n",
              "      <th>1</th>\n",
              "      <td>-0.249271</td>\n",
              "      <td>2.070913</td>\n",
              "      <td>-0.043512</td>\n",
              "      <td>0</td>\n",
              "      <td>0</td>\n",
              "    </tr>\n",
              "    <tr>\n",
              "      <th>2</th>\n",
              "      <td>0.387611</td>\n",
              "      <td>2.333823</td>\n",
              "      <td>0.373178</td>\n",
              "      <td>0</td>\n",
              "      <td>0</td>\n",
              "    </tr>\n",
              "    <tr>\n",
              "      <th>3</th>\n",
              "      <td>0.044797</td>\n",
              "      <td>2.636413</td>\n",
              "      <td>-0.260014</td>\n",
              "      <td>0</td>\n",
              "      <td>0</td>\n",
              "    </tr>\n",
              "    <tr>\n",
              "      <th>4</th>\n",
              "      <td>-0.533231</td>\n",
              "      <td>2.886869</td>\n",
              "      <td>-1.458216</td>\n",
              "      <td>0</td>\n",
              "      <td>0</td>\n",
              "    </tr>\n",
              "    <tr>\n",
              "      <th>...</th>\n",
              "      <td>...</td>\n",
              "      <td>...</td>\n",
              "      <td>...</td>\n",
              "      <td>...</td>\n",
              "      <td>...</td>\n",
              "    </tr>\n",
              "    <tr>\n",
              "      <th>5575005</th>\n",
              "      <td>-0.287201</td>\n",
              "      <td>0.228146</td>\n",
              "      <td>-0.255089</td>\n",
              "      <td>1</td>\n",
              "      <td>1</td>\n",
              "    </tr>\n",
              "    <tr>\n",
              "      <th>5575006</th>\n",
              "      <td>-0.356196</td>\n",
              "      <td>0.236507</td>\n",
              "      <td>-0.239574</td>\n",
              "      <td>1</td>\n",
              "      <td>1</td>\n",
              "    </tr>\n",
              "    <tr>\n",
              "      <th>5575007</th>\n",
              "      <td>-0.318049</td>\n",
              "      <td>0.266597</td>\n",
              "      <td>-0.226275</td>\n",
              "      <td>1</td>\n",
              "      <td>1</td>\n",
              "    </tr>\n",
              "    <tr>\n",
              "      <th>5575008</th>\n",
              "      <td>-0.133675</td>\n",
              "      <td>0.255940</td>\n",
              "      <td>-0.242067</td>\n",
              "      <td>1</td>\n",
              "      <td>1</td>\n",
              "    </tr>\n",
              "    <tr>\n",
              "      <th>5575009</th>\n",
              "      <td>-0.065859</td>\n",
              "      <td>0.222088</td>\n",
              "      <td>-0.290552</td>\n",
              "      <td>1</td>\n",
              "      <td>1</td>\n",
              "    </tr>\n",
              "  </tbody>\n",
              "</table>\n",
              "<p>5575010 rows × 5 columns</p>\n",
              "</div>"
            ],
            "text/plain": [
              "                x         y         z  source  sensor\n",
              "0       -0.135440  1.879602 -0.033606       0       0\n",
              "1       -0.249271  2.070913 -0.043512       0       0\n",
              "2        0.387611  2.333823  0.373178       0       0\n",
              "3        0.044797  2.636413 -0.260014       0       0\n",
              "4       -0.533231  2.886869 -1.458216       0       0\n",
              "...           ...       ...       ...     ...     ...\n",
              "5575005 -0.287201  0.228146 -0.255089       1       1\n",
              "5575006 -0.356196  0.236507 -0.239574       1       1\n",
              "5575007 -0.318049  0.266597 -0.226275       1       1\n",
              "5575008 -0.133675  0.255940 -0.242067       1       1\n",
              "5575009 -0.065859  0.222088 -0.290552       1       1\n",
              "\n",
              "[5575010 rows x 5 columns]"
            ]
          },
          "metadata": {
            "tags": []
          },
          "execution_count": 54
        }
      ]
    },
    {
      "cell_type": "code",
      "metadata": {
        "id": "IXgwbjhdrKk2",
        "colab_type": "code",
        "colab": {
          "base_uri": "https://localhost:8080/",
          "height": 390
        },
        "outputId": "af1e07e9-08a2-4967-9026-55d20d6e43b7"
      },
      "source": [
        "import tensorflow.keras\n",
        "from tensorflow.keras.models import Sequential\n",
        "from tensorflow.keras.layers import Dense\n",
        "from tensorflow.keras.layers import Dropout\n",
        "\n",
        "classifier = Sequential()\n",
        "\n",
        "classifier.add(Dense(units = 3, kernel_initializer = 'uniform', activation = 'relu', input_dim = 5))\n",
        "classifier.add(Dropout(0.1))\n",
        "\n",
        "classifier.add(Dense(units = 6, kernel_initializer = 'uniform', activation = 'relu'))\n",
        "classifier.add(Dropout(0.1))\n",
        "\n",
        "classifier.add(Dense(units = 24, kernel_initializer = 'uniform', activation = 'relu'))\n",
        "classifier.add(Dropout(0.1))\n",
        "\n",
        "classifier.add(Dense(units = 18, kernel_initializer = 'uniform', activation = 'relu'))\n",
        "classifier.add(Dropout(0.1))\n",
        "\n",
        "classifier.add(Dense(units = 1, kernel_initializer = 'uniform', activation = 'sigmoid'))\n",
        "\n",
        "classifier.compile(optimizer = 'adam', loss = 'binary_crossentropy', metrics = ['accuracy'])\n",
        "\n",
        "classifier.fit(X_tr, y_tr, batch_size = 10, epochs = 10)"
      ],
      "execution_count": 55,
      "outputs": [
        {
          "output_type": "stream",
          "text": [
            "Epoch 1/10\n",
            " 14026/557501 [..............................] - ETA: 24:40 - loss: -46345465856.0000 - accuracy: 0.0519"
          ],
          "name": "stdout"
        },
        {
          "output_type": "error",
          "ename": "KeyboardInterrupt",
          "evalue": "ignored",
          "traceback": [
            "\u001b[0;31m---------------------------------------------------------------------------\u001b[0m",
            "\u001b[0;31mKeyboardInterrupt\u001b[0m                         Traceback (most recent call last)",
            "\u001b[0;32m<ipython-input-55-1a118b6256ea>\u001b[0m in \u001b[0;36m<module>\u001b[0;34m()\u001b[0m\n\u001b[1;32m     22\u001b[0m \u001b[0mclassifier\u001b[0m\u001b[0;34m.\u001b[0m\u001b[0mcompile\u001b[0m\u001b[0;34m(\u001b[0m\u001b[0moptimizer\u001b[0m \u001b[0;34m=\u001b[0m \u001b[0;34m'adam'\u001b[0m\u001b[0;34m,\u001b[0m \u001b[0mloss\u001b[0m \u001b[0;34m=\u001b[0m \u001b[0;34m'binary_crossentropy'\u001b[0m\u001b[0;34m,\u001b[0m \u001b[0mmetrics\u001b[0m \u001b[0;34m=\u001b[0m \u001b[0;34m[\u001b[0m\u001b[0;34m'accuracy'\u001b[0m\u001b[0;34m]\u001b[0m\u001b[0;34m)\u001b[0m\u001b[0;34m\u001b[0m\u001b[0;34m\u001b[0m\u001b[0m\n\u001b[1;32m     23\u001b[0m \u001b[0;34m\u001b[0m\u001b[0m\n\u001b[0;32m---> 24\u001b[0;31m \u001b[0mclassifier\u001b[0m\u001b[0;34m.\u001b[0m\u001b[0mfit\u001b[0m\u001b[0;34m(\u001b[0m\u001b[0mX_tr\u001b[0m\u001b[0;34m,\u001b[0m \u001b[0my_tr\u001b[0m\u001b[0;34m,\u001b[0m \u001b[0mbatch_size\u001b[0m \u001b[0;34m=\u001b[0m \u001b[0;36m10\u001b[0m\u001b[0;34m,\u001b[0m \u001b[0mepochs\u001b[0m \u001b[0;34m=\u001b[0m \u001b[0;36m10\u001b[0m\u001b[0;34m)\u001b[0m\u001b[0;34m\u001b[0m\u001b[0;34m\u001b[0m\u001b[0m\n\u001b[0m",
            "\u001b[0;32m/usr/local/lib/python3.6/dist-packages/tensorflow/python/keras/engine/training.py\u001b[0m in \u001b[0;36m_method_wrapper\u001b[0;34m(self, *args, **kwargs)\u001b[0m\n\u001b[1;32m     64\u001b[0m   \u001b[0;32mdef\u001b[0m \u001b[0m_method_wrapper\u001b[0m\u001b[0;34m(\u001b[0m\u001b[0mself\u001b[0m\u001b[0;34m,\u001b[0m \u001b[0;34m*\u001b[0m\u001b[0margs\u001b[0m\u001b[0;34m,\u001b[0m \u001b[0;34m**\u001b[0m\u001b[0mkwargs\u001b[0m\u001b[0;34m)\u001b[0m\u001b[0;34m:\u001b[0m\u001b[0;34m\u001b[0m\u001b[0;34m\u001b[0m\u001b[0m\n\u001b[1;32m     65\u001b[0m     \u001b[0;32mif\u001b[0m \u001b[0;32mnot\u001b[0m \u001b[0mself\u001b[0m\u001b[0;34m.\u001b[0m\u001b[0m_in_multi_worker_mode\u001b[0m\u001b[0;34m(\u001b[0m\u001b[0;34m)\u001b[0m\u001b[0;34m:\u001b[0m  \u001b[0;31m# pylint: disable=protected-access\u001b[0m\u001b[0;34m\u001b[0m\u001b[0;34m\u001b[0m\u001b[0m\n\u001b[0;32m---> 66\u001b[0;31m       \u001b[0;32mreturn\u001b[0m \u001b[0mmethod\u001b[0m\u001b[0;34m(\u001b[0m\u001b[0mself\u001b[0m\u001b[0;34m,\u001b[0m \u001b[0;34m*\u001b[0m\u001b[0margs\u001b[0m\u001b[0;34m,\u001b[0m \u001b[0;34m**\u001b[0m\u001b[0mkwargs\u001b[0m\u001b[0;34m)\u001b[0m\u001b[0;34m\u001b[0m\u001b[0;34m\u001b[0m\u001b[0m\n\u001b[0m\u001b[1;32m     67\u001b[0m \u001b[0;34m\u001b[0m\u001b[0m\n\u001b[1;32m     68\u001b[0m     \u001b[0;31m# Running inside `run_distribute_coordinator` already.\u001b[0m\u001b[0;34m\u001b[0m\u001b[0;34m\u001b[0m\u001b[0;34m\u001b[0m\u001b[0m\n",
            "\u001b[0;32m/usr/local/lib/python3.6/dist-packages/tensorflow/python/keras/engine/training.py\u001b[0m in \u001b[0;36mfit\u001b[0;34m(self, x, y, batch_size, epochs, verbose, callbacks, validation_split, validation_data, shuffle, class_weight, sample_weight, initial_epoch, steps_per_epoch, validation_steps, validation_batch_size, validation_freq, max_queue_size, workers, use_multiprocessing)\u001b[0m\n\u001b[1;32m    853\u001b[0m                 \u001b[0mcontext\u001b[0m\u001b[0;34m.\u001b[0m\u001b[0masync_wait\u001b[0m\u001b[0;34m(\u001b[0m\u001b[0;34m)\u001b[0m\u001b[0;34m\u001b[0m\u001b[0;34m\u001b[0m\u001b[0m\n\u001b[1;32m    854\u001b[0m               \u001b[0mlogs\u001b[0m \u001b[0;34m=\u001b[0m \u001b[0mtmp_logs\u001b[0m  \u001b[0;31m# No error, now safe to assign to logs.\u001b[0m\u001b[0;34m\u001b[0m\u001b[0;34m\u001b[0m\u001b[0m\n\u001b[0;32m--> 855\u001b[0;31m               \u001b[0mcallbacks\u001b[0m\u001b[0;34m.\u001b[0m\u001b[0mon_train_batch_end\u001b[0m\u001b[0;34m(\u001b[0m\u001b[0mstep\u001b[0m\u001b[0;34m,\u001b[0m \u001b[0mlogs\u001b[0m\u001b[0;34m)\u001b[0m\u001b[0;34m\u001b[0m\u001b[0;34m\u001b[0m\u001b[0m\n\u001b[0m\u001b[1;32m    856\u001b[0m         \u001b[0mepoch_logs\u001b[0m \u001b[0;34m=\u001b[0m \u001b[0mcopy\u001b[0m\u001b[0;34m.\u001b[0m\u001b[0mcopy\u001b[0m\u001b[0;34m(\u001b[0m\u001b[0mlogs\u001b[0m\u001b[0;34m)\u001b[0m\u001b[0;34m\u001b[0m\u001b[0;34m\u001b[0m\u001b[0m\n\u001b[1;32m    857\u001b[0m \u001b[0;34m\u001b[0m\u001b[0m\n",
            "\u001b[0;32m/usr/local/lib/python3.6/dist-packages/tensorflow/python/keras/callbacks.py\u001b[0m in \u001b[0;36mon_train_batch_end\u001b[0;34m(self, batch, logs)\u001b[0m\n\u001b[1;32m    387\u001b[0m     \"\"\"\n\u001b[1;32m    388\u001b[0m     \u001b[0;32mif\u001b[0m \u001b[0mself\u001b[0m\u001b[0;34m.\u001b[0m\u001b[0m_should_call_train_batch_hooks\u001b[0m\u001b[0;34m:\u001b[0m\u001b[0;34m\u001b[0m\u001b[0;34m\u001b[0m\u001b[0m\n\u001b[0;32m--> 389\u001b[0;31m       \u001b[0mlogs\u001b[0m \u001b[0;34m=\u001b[0m \u001b[0mself\u001b[0m\u001b[0;34m.\u001b[0m\u001b[0m_process_logs\u001b[0m\u001b[0;34m(\u001b[0m\u001b[0mlogs\u001b[0m\u001b[0;34m)\u001b[0m\u001b[0;34m\u001b[0m\u001b[0;34m\u001b[0m\u001b[0m\n\u001b[0m\u001b[1;32m    390\u001b[0m       \u001b[0mself\u001b[0m\u001b[0;34m.\u001b[0m\u001b[0m_call_batch_hook\u001b[0m\u001b[0;34m(\u001b[0m\u001b[0mModeKeys\u001b[0m\u001b[0;34m.\u001b[0m\u001b[0mTRAIN\u001b[0m\u001b[0;34m,\u001b[0m \u001b[0;34m'end'\u001b[0m\u001b[0;34m,\u001b[0m \u001b[0mbatch\u001b[0m\u001b[0;34m,\u001b[0m \u001b[0mlogs\u001b[0m\u001b[0;34m=\u001b[0m\u001b[0mlogs\u001b[0m\u001b[0;34m)\u001b[0m\u001b[0;34m\u001b[0m\u001b[0;34m\u001b[0m\u001b[0m\n\u001b[1;32m    391\u001b[0m \u001b[0;34m\u001b[0m\u001b[0m\n",
            "\u001b[0;32m/usr/local/lib/python3.6/dist-packages/tensorflow/python/keras/callbacks.py\u001b[0m in \u001b[0;36m_process_logs\u001b[0;34m(self, logs)\u001b[0m\n\u001b[1;32m    263\u001b[0m     \u001b[0;34m\"\"\"Turns tensors into numpy arrays or Python scalars.\"\"\"\u001b[0m\u001b[0;34m\u001b[0m\u001b[0;34m\u001b[0m\u001b[0m\n\u001b[1;32m    264\u001b[0m     \u001b[0;32mif\u001b[0m \u001b[0mlogs\u001b[0m\u001b[0;34m:\u001b[0m\u001b[0;34m\u001b[0m\u001b[0;34m\u001b[0m\u001b[0m\n\u001b[0;32m--> 265\u001b[0;31m       \u001b[0;32mreturn\u001b[0m \u001b[0mtf_utils\u001b[0m\u001b[0;34m.\u001b[0m\u001b[0mto_numpy_or_python_type\u001b[0m\u001b[0;34m(\u001b[0m\u001b[0mlogs\u001b[0m\u001b[0;34m)\u001b[0m\u001b[0;34m\u001b[0m\u001b[0;34m\u001b[0m\u001b[0m\n\u001b[0m\u001b[1;32m    266\u001b[0m     \u001b[0;32mreturn\u001b[0m \u001b[0;34m{\u001b[0m\u001b[0;34m}\u001b[0m\u001b[0;34m\u001b[0m\u001b[0;34m\u001b[0m\u001b[0m\n\u001b[1;32m    267\u001b[0m \u001b[0;34m\u001b[0m\u001b[0m\n",
            "\u001b[0;32m/usr/local/lib/python3.6/dist-packages/tensorflow/python/keras/utils/tf_utils.py\u001b[0m in \u001b[0;36mto_numpy_or_python_type\u001b[0;34m(tensors)\u001b[0m\n\u001b[1;32m    521\u001b[0m     \u001b[0;32mreturn\u001b[0m \u001b[0mt\u001b[0m  \u001b[0;31m# Don't turn ragged or sparse tensors to NumPy.\u001b[0m\u001b[0;34m\u001b[0m\u001b[0;34m\u001b[0m\u001b[0m\n\u001b[1;32m    522\u001b[0m \u001b[0;34m\u001b[0m\u001b[0m\n\u001b[0;32m--> 523\u001b[0;31m   \u001b[0;32mreturn\u001b[0m \u001b[0mnest\u001b[0m\u001b[0;34m.\u001b[0m\u001b[0mmap_structure\u001b[0m\u001b[0;34m(\u001b[0m\u001b[0m_to_single_numpy_or_python_type\u001b[0m\u001b[0;34m,\u001b[0m \u001b[0mtensors\u001b[0m\u001b[0;34m)\u001b[0m\u001b[0;34m\u001b[0m\u001b[0;34m\u001b[0m\u001b[0m\n\u001b[0m\u001b[1;32m    524\u001b[0m \u001b[0;34m\u001b[0m\u001b[0m\n",
            "\u001b[0;32m/usr/local/lib/python3.6/dist-packages/tensorflow/python/util/nest.py\u001b[0m in \u001b[0;36mmap_structure\u001b[0;34m(func, *structure, **kwargs)\u001b[0m\n\u001b[1;32m    616\u001b[0m   return pack_sequence_as(\n\u001b[1;32m    617\u001b[0m       \u001b[0mstructure\u001b[0m\u001b[0;34m[\u001b[0m\u001b[0;36m0\u001b[0m\u001b[0;34m]\u001b[0m\u001b[0;34m,\u001b[0m \u001b[0;34m[\u001b[0m\u001b[0mfunc\u001b[0m\u001b[0;34m(\u001b[0m\u001b[0;34m*\u001b[0m\u001b[0mx\u001b[0m\u001b[0;34m)\u001b[0m \u001b[0;32mfor\u001b[0m \u001b[0mx\u001b[0m \u001b[0;32min\u001b[0m \u001b[0mentries\u001b[0m\u001b[0;34m]\u001b[0m\u001b[0;34m,\u001b[0m\u001b[0;34m\u001b[0m\u001b[0;34m\u001b[0m\u001b[0m\n\u001b[0;32m--> 618\u001b[0;31m       expand_composites=expand_composites)\n\u001b[0m\u001b[1;32m    619\u001b[0m \u001b[0;34m\u001b[0m\u001b[0m\n\u001b[1;32m    620\u001b[0m \u001b[0;34m\u001b[0m\u001b[0m\n",
            "\u001b[0;32m/usr/local/lib/python3.6/dist-packages/tensorflow/python/util/nest.py\u001b[0m in \u001b[0;36mpack_sequence_as\u001b[0;34m(structure, flat_sequence, expand_composites)\u001b[0m\n\u001b[1;32m    550\u001b[0m     \u001b[0mTypeError\u001b[0m\u001b[0;34m:\u001b[0m\u001b[0;31m \u001b[0m\u001b[0;31m`\u001b[0m\u001b[0mstructure\u001b[0m\u001b[0;31m`\u001b[0m \u001b[0;32mis\u001b[0m \u001b[0;32mor\u001b[0m \u001b[0mcontains\u001b[0m \u001b[0ma\u001b[0m \u001b[0mdict\u001b[0m \u001b[0;32mwith\u001b[0m \u001b[0mnon\u001b[0m\u001b[0;34m-\u001b[0m\u001b[0msortable\u001b[0m \u001b[0mkeys\u001b[0m\u001b[0;34m.\u001b[0m\u001b[0;34m\u001b[0m\u001b[0;34m\u001b[0m\u001b[0m\n\u001b[1;32m    551\u001b[0m   \"\"\"\n\u001b[0;32m--> 552\u001b[0;31m   \u001b[0;32mreturn\u001b[0m \u001b[0m_pack_sequence_as\u001b[0m\u001b[0;34m(\u001b[0m\u001b[0mstructure\u001b[0m\u001b[0;34m,\u001b[0m \u001b[0mflat_sequence\u001b[0m\u001b[0;34m,\u001b[0m \u001b[0mexpand_composites\u001b[0m\u001b[0;34m)\u001b[0m\u001b[0;34m\u001b[0m\u001b[0;34m\u001b[0m\u001b[0m\n\u001b[0m\u001b[1;32m    553\u001b[0m \u001b[0;34m\u001b[0m\u001b[0m\n\u001b[1;32m    554\u001b[0m \u001b[0;34m\u001b[0m\u001b[0m\n",
            "\u001b[0;32m/usr/local/lib/python3.6/dist-packages/tensorflow/python/util/nest.py\u001b[0m in \u001b[0;36m_pack_sequence_as\u001b[0;34m(structure, flat_sequence, expand_composites, sequence_fn)\u001b[0m\n\u001b[1;32m    480\u001b[0m                       sequence_fn=None):\n\u001b[1;32m    481\u001b[0m   \u001b[0;34m\"\"\"Implements sequence packing, with the option to alter the structure.\"\"\"\u001b[0m\u001b[0;34m\u001b[0m\u001b[0;34m\u001b[0m\u001b[0m\n\u001b[0;32m--> 482\u001b[0;31m   \u001b[0mis_seq\u001b[0m \u001b[0;34m=\u001b[0m \u001b[0mis_sequence_or_composite\u001b[0m \u001b[0;32mif\u001b[0m \u001b[0mexpand_composites\u001b[0m \u001b[0;32melse\u001b[0m \u001b[0mis_sequence\u001b[0m\u001b[0;34m\u001b[0m\u001b[0;34m\u001b[0m\u001b[0m\n\u001b[0m\u001b[1;32m    483\u001b[0m   \u001b[0msequence_fn\u001b[0m \u001b[0;34m=\u001b[0m \u001b[0msequence_fn\u001b[0m \u001b[0;32mor\u001b[0m \u001b[0m_sequence_like\u001b[0m\u001b[0;34m\u001b[0m\u001b[0;34m\u001b[0m\u001b[0m\n\u001b[1;32m    484\u001b[0m   \u001b[0;32mdef\u001b[0m \u001b[0mtruncate\u001b[0m\u001b[0;34m(\u001b[0m\u001b[0mvalue\u001b[0m\u001b[0;34m,\u001b[0m \u001b[0mlength\u001b[0m\u001b[0;34m)\u001b[0m\u001b[0;34m:\u001b[0m\u001b[0;34m\u001b[0m\u001b[0;34m\u001b[0m\u001b[0m\n",
            "\u001b[0;31mKeyboardInterrupt\u001b[0m: "
          ]
        }
      ]
    },
    {
      "cell_type": "code",
      "metadata": {
        "id": "Etem1g4uS839",
        "colab_type": "code",
        "colab": {}
      },
      "source": [
        ""
      ],
      "execution_count": 0,
      "outputs": []
    }
  ]
}